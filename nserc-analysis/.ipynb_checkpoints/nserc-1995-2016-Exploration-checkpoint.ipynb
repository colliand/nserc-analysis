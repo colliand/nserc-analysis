{
 "cells": [
  {
   "cell_type": "markdown",
   "metadata": {},
   "source": [
    "\n",
    "<img src=\"http://www.nserc-crsng.gc.ca/_gui/wmms.gif\" alt=\"Canada logo\" align=\"right\">\n",
    "\n",
    "<br>\n",
    "\n",
    "<img src=\"http://www.triumf.ca/sites/default/files/styles/gallery_large/public/images/nserc_crsng.gif?itok=H7AhTN_F\" alt=\"NSERC logo\" align=\"right\" width = 90>\n",
    "\n",
    "\n",
    "\n",
    "# Exploring NSERC Awards Data\n",
    "\n",
    "\n",
    "Canada's [Open Government Portal](http://open.canada.ca/en) includes [NSERC Awards Data](http://open.canada.ca/data/en/dataset/c1b0f627-8c29-427c-ab73-33968ad9176e) from 1991 through 2016.\n",
    "\n",
    "The awards data (in .csv format) were copied to an [Amazon Web Services S3 bucket](http://docs.aws.amazon.com/AmazonS3/latest/dev/UsingBucket.html). This open Jupyter notebook starts an exploration of the NSERC investment portfolio during the 1995 -- 2016 epoch. If you'd like access to the data hosted on S3, please contact [James Colliander](http://colliand.com).)\n",
    "\n",
    "> **Acknowledgement:** I thank [Ian Allison](https://github.com/ianabc) and [James Colliander](http://colliand.com) of the [Pacific Institute for the Mathematical Sciences](http://www.pims.math.ca/) for building the [JupyterHub service](https://pims.jupyter.ca) and for help with this notebook. -- I. Heisz"
   ]
  },
  {
   "cell_type": "code",
   "execution_count": null,
   "metadata": {},
   "outputs": [],
   "source": [
    "# For Plotting\n",
    "import matplotlib.pyplot as plt\n",
    "import matplotlib.ticker as mtick\n",
    "!pip3 install plotly --user; #Plotly for graphing\n",
    "import plotly.plotly as py\n",
    "import plotly.graph_objs as go"
   ]
  },
  {
   "cell_type": "code",
   "execution_count": null,
   "metadata": {},
   "outputs": [],
   "source": [
    "# Note: haven't yet uploaded this to github or shared it\n",
    "import numpy as np\n",
    "import pandas as pd\n",
    "import sys\n",
    "\n",
    "## Bring in a selection of the NSERC awards data starting with 1995 and ending with 2016.\n",
    "## Throw away as much as you can to keep the DataFrame small enough to manipulate using a laptop.\n",
    "\n",
    "df = pd.DataFrame()\n",
    "\n",
    "startYear = 1995\n",
    "endYear   = 2017  ## The last year is not included, so if it was 2017 it means we include the 2016 collection but not 2017.\n",
    "\n",
    "## Reads and processes the raw csv datafiles.\n",
    "for year in range(startYear, endYear):\n",
    "    file = 'https://s3.ca-central-1.amazonaws.com/open-data-ro/NSERC/NSERC_GRT_FYR' + str(year) + '_AWARD.csv.gz'\n",
    "    df = df.append(pd.read_csv(file, compression='gzip', usecols = [1, 9, 11, 17, 25], encoding='latin-1'))\n",
    "    \n",
    "    print(year)\n",
    "    \n",
    "## Rename columns for better readability.\n",
    "df.columns = ['Name', 'FiscalYear', 'AwardAmount', 'Committee', 'ResearchSubject']     \n",
    "  "
   ]
  },
  {
   "cell_type": "code",
   "execution_count": null,
   "metadata": {},
   "outputs": [],
   "source": [
    "print(\"DataFrame: {:4.2f} Mb\".format(sys.getsizeof(df) / (1024. * 1024)))  "
   ]
  },
  {
   "cell_type": "code",
   "execution_count": null,
   "metadata": {
    "collapsed": true
   },
   "outputs": [],
   "source": [
    "df.head()"
   ]
  },
  {
   "cell_type": "code",
   "execution_count": null,
   "metadata": {
    "collapsed": true
   },
   "outputs": [],
   "source": [
    "df.columns"
   ]
  },
  {
   "cell_type": "code",
   "execution_count": null,
   "metadata": {
    "collapsed": true
   },
   "outputs": [],
   "source": [
    "sanityCheck0 = df.loc[(df['Name'] == 'LangeDiCesare, Kevin')]\n",
    "sanityCheck0 # ...  "
   ]
  },
  {
   "cell_type": "code",
   "execution_count": null,
   "metadata": {
    "collapsed": true
   },
   "outputs": [],
   "source": [
    "sanityCheck1 = df.loc[(df['Name'] == 'Forrest, Tracey')]\n",
    "sanityCheck1"
   ]
  },
  {
   "cell_type": "code",
   "execution_count": null,
   "metadata": {
    "collapsed": true
   },
   "outputs": [],
   "source": [
    "sanityCheck2 = df.loc[(df['Name'] == 'McWalter, Ian')]"
   ]
  },
  {
   "cell_type": "code",
   "execution_count": null,
   "metadata": {
    "collapsed": true
   },
   "outputs": [],
   "source": [
    "sanityCheck3 = deduplicatedData.loc[(deduplicatedData['Name'] == 'McWalter, Ian')]"
   ]
  },
  {
   "cell_type": "code",
   "execution_count": null,
   "metadata": {
    "collapsed": true
   },
   "outputs": [],
   "source": [
    "#byAwardAmount = deduplicatedData.sort_values(by=['AwardAmount'], ascending=[False])\n",
    "\n",
    "#byAwardAmount"
   ]
  },
  {
   "cell_type": "code",
   "execution_count": null,
   "metadata": {},
   "outputs": [],
   "source": [
    "year2016 = df.loc[(df['FiscalYear'] == 2016)]\n",
    "\n",
    "# Make a new column that is the sum of all Awards that each individual has received \n",
    "year2016['TotalAward'] = year2016.groupby(['Name'])['AwardAmount'].transform('sum')"
   ]
  },
  {
   "cell_type": "code",
   "execution_count": null,
   "metadata": {},
   "outputs": [],
   "source": [
    "# Drop the duplicate names, now that we have the award amount info from them\n",
    "deduplicatedData = year2016.drop_duplicates(subset = 'Name')\n",
    "\n",
    "# Sort by total award for the given year\n",
    "byAwardAmount = year2016.sort_values(by=['TotalAward'], ascending=[True])\n",
    "\n",
    "byAwardAmount"
   ]
  },
  {
   "cell_type": "code",
   "execution_count": null,
   "metadata": {
    "collapsed": true
   },
   "outputs": [],
   "source": [
    "sanityCheck4 = byAwardAmount.loc[(byAwardAmount['Name'] == 'McWalter, Ian')]"
   ]
  },
  {
   "cell_type": "code",
   "execution_count": null,
   "metadata": {
    "collapsed": true
   },
   "outputs": [],
   "source": [
    "year2016 = deduplicatedData.loc[(deduplicatedData['FiscalYear'] == 2016)]\n",
    "\n",
    "# Sort by total award for the given year\n",
    "byAwardAmount = year2016.sort_values(by=['TotalAward'], ascending=[True])\n",
    "\n",
    "byAwardAmount"
   ]
  },
  {
   "cell_type": "code",
   "execution_count": null,
   "metadata": {
    "collapsed": true
   },
   "outputs": [],
   "source": [
    "sanityCheck4 = df.loc[(df['Name'] == 'McWalter, Ian')]"
   ]
  },
  {
   "cell_type": "code",
   "execution_count": null,
   "metadata": {
    "collapsed": true
   },
   "outputs": [],
   "source": [
    "# Make nice indices for the rows, they got messed up when we re-arranged them by AwardTotal\n",
    "\n",
    "# byAwardAmount.shape[0] gives you the number of rows in byAwardAmount\n",
    "byAwardAmount.id = range(byAwardAmount.shape[0]-10000)"
   ]
  },
  {
   "cell_type": "code",
   "execution_count": null,
   "metadata": {
    "collapsed": true
   },
   "outputs": [],
   "source": [
    "# static plot\n",
    "\n",
    "axes = plt.gca()\n",
    "axes.set_xticklabels([]) # make it so the x axis is not numbered\n",
    "#axes.set_xlim([0,2000])\n",
    "#axes.set_ylim([0,0.4])\n",
    "\n",
    "#xAxis = 'ResearchSubject'\n",
    "yAxis = 'AwardAmount'\n",
    "\n",
    "#x = byAwardAmount[xAxis]\n",
    "x = range(byAwardAmount.shape[0])\n",
    "plt.xlabel('IndividualResearchers', fontsize=16)\n",
    "x = x #Scale the x axis\n",
    "\n",
    "\n",
    "y = byAwardAmount[yAxis]\n",
    "plt.ylabel(yAxis+' In Millions', fontsize=18)\n",
    "y = y/10**6 #Scale the y axis\n",
    "\n",
    "# plot\n",
    "plot = plt.plot(x,y)\n",
    "\n",
    "plt.show()\n",
    "\n"
   ]
  },
  {
   "cell_type": "code",
   "execution_count": null,
   "metadata": {
    "collapsed": true
   },
   "outputs": [],
   "source": [
    "#example working plotly\n",
    "\n",
    "import plotly.offline as py\n",
    "from plotly.offline import init_notebook_mode, iplot\n",
    "import plotly.tools as tls\n",
    "import matplotlib.pylab as plt\n",
    "from matplotlib.backends.backend_agg import FigureCanvasAgg as FigureCanvas\n",
    "\n",
    "fig = plt.Figure()\n",
    "axes = fig.gca()\n",
    "\n",
    "axes.plot(x,y)\n",
    "canvas = FigureCanvas(fig)\n",
    "plotly_fig = tls.mpl_to_plotly(fig)\n",
    "py.iplot(plotly_fig)"
   ]
  },
  {
   "cell_type": "markdown",
   "metadata": {
    "collapsed": true
   },
   "source": [
    "Tasks:\n",
    "\n",
    "Colour according to research category.\n",
    "\n",
    "Also make a research vs. industry funding colour coded graph.\n",
    "\n",
    "Do some for individual research categories.\n",
    "\n",
    "Loop through all the years.\n",
    "\n",
    "Collect stats on the buckets. \"buckets\" hmm, as if."
   ]
  },
  {
   "cell_type": "markdown",
   "metadata": {},
   "source": []
  }
 ],
 "metadata": {
  "kernelspec": {
   "display_name": "Python 3",
   "language": "python",
   "name": "python3"
  },
  "language_info": {
   "codemirror_mode": {
    "name": "ipython",
    "version": 3
   },
   "file_extension": ".py",
   "mimetype": "text/x-python",
   "name": "python",
   "nbconvert_exporter": "python",
   "pygments_lexer": "ipython3",
   "version": "3.5.2"
  }
 },
 "nbformat": 4,
 "nbformat_minor": 2
}
