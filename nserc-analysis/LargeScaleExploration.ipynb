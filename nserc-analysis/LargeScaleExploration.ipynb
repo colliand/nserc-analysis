{
 "cells": [
  {
   "cell_type": "markdown",
   "metadata": {},
   "source": [
    "<img src=\"http://www.nserc-crsng.gc.ca/_gui/wmms.gif\" alt=\"Canada logo\" align=\"right\">\n",
    "\n",
    "<br>\n",
    "\n",
    "<img src=\"http://www.triumf.ca/sites/default/files/styles/gallery_large/public/images/nserc_crsng.gif?itok=H7AhTN_F\" alt=\"NSERC logo\" align=\"right\" width = 90>\n",
    "\n",
    "\n",
    "\n",
    "# Exploring NSERC Awards Data\n",
    "\n",
    "\n",
    "Canada's [Open Government Portal](http://open.canada.ca/en) includes [NSERC Awards Data](http://open.canada.ca/data/en/dataset/c1b0f627-8c29-427c-ab73-33968ad9176e) from 1995 through 2016.\n",
    "\n",
    "The awards data (in .csv format) were copied to an [Amazon Web Services S3 bucket](http://docs.aws.amazon.com/AmazonS3/latest/dev/UsingBucket.html). This open Jupyter notebook shows the large trends over the data and compares entire selections with each other.\n",
    "\n",
    "> **Acknowledgement:** I thank [Ian Allison](https://github.com/ianabc) and [James Colliander](http://colliand.com) of the [Pacific Institute for the Mathematical Sciences](http://www.pims.math.ca/) for building the [JupyterHub service](http://syzygy.ca) and for help with this notebook. -- I. Heisz"
   ]
  },
  {
   "cell_type": "code",
   "execution_count": 1,
   "metadata": {},
   "outputs": [
    {
     "name": "stdout",
     "output_type": "stream",
     "text": [
      "1995\n",
      "1996\n",
      "1997\n",
      "1998\n",
      "1999\n",
      "2000\n",
      "2001\n",
      "2002\n",
      "2003\n",
      "2004\n",
      "2005\n",
      "2006\n",
      "2007\n",
      "2008\n",
      "2009\n",
      "2010\n",
      "2011\n",
      "2012\n",
      "2013\n",
      "2014\n",
      "2015\n",
      "2016\n"
     ]
    },
    {
     "data": {
      "text/plain": [
       "Index(['Name', 'Department', 'OrganizationID', 'Institution', 'ProvinceEN',\n",
       "       'CountryEN', 'FiscalYear', 'AwardAmount', 'ProgramID', 'Committee'],\n",
       "      dtype='object')"
      ]
     },
     "execution_count": 1,
     "metadata": {},
     "output_type": "execute_result"
    }
   ],
   "source": [
    "import numpy as np\n",
    "import pandas as pd\n",
    "import sys\n",
    "\n",
    "## Bring in a selection of the NSERC awards data starting with 1995 and ending with 2016.\n",
    "## Throw away as much as you can to keep the DataFrame small enough to manipulate using a laptop.\n",
    "\n",
    "df = pd.DataFrame()\n",
    "\n",
    "startYear = 1995\n",
    "endYear   = 2017  # The last year is not included, so if it was 2017 it means we include the 2016 collection but not 2017.\n",
    "\n",
    "for year in range(startYear, endYear):\n",
    "    file = 'https://s3.ca-central-1.amazonaws.com/open-data-ro/NSERC/NSERC_GRT_FYR' + str(year) + '_AWARD.csv.gz'\n",
    "    df = df.append(pd.read_csv(file, \n",
    "                               compression='gzip', \n",
    "                               usecols = [1, 2, 3, 4, 5, 7, 9, 11, 12, 17], \n",
    "                               encoding='latin-1'\n",
    "                              )\n",
    "                  )\n",
    "    print(year)\n",
    " \n",
    "## Rename columns for better readability.\n",
    "df.columns = ['Name', 'Department', 'OrganizationID',\n",
    "                 'Institution', 'ProvinceEN', 'CountryEN',\n",
    "                 'FiscalYear', 'AwardAmount', 'ProgramID',\n",
    "                 'Committee'] \n",
    "\n",
    "## Strip out any leading or trailing whitespace\n",
    "df.columns.str.strip()"
   ]
  },
  {
   "cell_type": "code",
   "execution_count": 2,
   "metadata": {},
   "outputs": [
    {
     "name": "stdout",
     "output_type": "stream",
     "text": [
      "DataFrame: 207.20 Mb\n"
     ]
    }
   ],
   "source": [
    "## Quantify data stored in memory.\n",
    "print(\"DataFrame: {:4.2f} Mb\".format(sys.getsizeof(df) / (1024. * 1024)))"
   ]
  },
  {
   "cell_type": "markdown",
   "metadata": {},
   "source": [
    "## Information about the Distribution of Wealth Among Researcher's Funding"
   ]
  },
  {
   "cell_type": "code",
   "execution_count": 3,
   "metadata": {
    "collapsed": true
   },
   "outputs": [],
   "source": [
    "# If you do more than one year at a time you risk crashing the kernel, \n",
    "# the distribution is very similar year to year.\n",
    "year = 2016 # Year you want to select for\n",
    "selectedYearData = df.loc[(df['FiscalYear'] == year)] # Gets the data for the selected year\n",
    "\n",
    "# The sum of all awards that each individual has received (during the selected year)\n",
    "individualAwardSum = selectedYearData.groupby(['Name'])['AwardAmount'].transform('sum')\n",
    "\n",
    "# Make a new column to show each researchers total awards received\n",
    "selectedYearData = selectedYearData.assign(TotalAward = individualAwardSum)\n",
    "\n",
    "# Drop the duplicate names, now that we have the award amount info from them.\n",
    "deduplicatedData = selectedYearData.drop_duplicates(subset = 'Name')\n",
    "\n",
    "# Sort by total award for the given year\n",
    "byAwardAmount = deduplicatedData.sort_values(by=['TotalAward'], ascending=[True])"
   ]
  },
  {
   "cell_type": "code",
   "execution_count": 4,
   "metadata": {},
   "outputs": [
    {
     "name": "stdout",
     "output_type": "stream",
     "text": [
      "The mean of AwardAmount is 38118.8182775\n",
      "The median of AwardAmount is 21000.0\n",
      "The standard deviation of AwardAmount is 141524.555172\n"
     ]
    }
   ],
   "source": [
    "## Statistical information about a specific column in the data\n",
    "\n",
    "# Change this value to get information about the column you are interested in\n",
    "columnYouWantInformationOn = 'AwardAmount'\n",
    "\n",
    "mean = df[columnYouWantInformationOn].mean()\n",
    "print('The mean of ' + str(columnYouWantInformationOn) + ' is ' + str(mean))\n",
    "\n",
    "median = df[columnYouWantInformationOn].median()\n",
    "print('The median of ' + str(columnYouWantInformationOn) + ' is ' + str(median))\n",
    "\n",
    "standardDeviation = df[columnYouWantInformationOn].std()\n",
    "print('The standard deviation of ' + str(columnYouWantInformationOn) + ' is ' + str(standardDeviation))"
   ]
  },
  {
   "cell_type": "markdown",
   "metadata": {},
   "source": [
    "### Wealth Distribution Plot"
   ]
  },
  {
   "cell_type": "code",
   "execution_count": 5,
   "metadata": {},
   "outputs": [
    {
     "name": "stdout",
     "output_type": "stream",
     "text": [
      "\r\n",
      "Usage:   \r\n",
      "  pip install [options] <requirement specifier> [package-index-options] ...\r\n",
      "  pip install [options] -r <requirements file> [package-index-options] ...\r\n",
      "  pip install [options] [-e] <vcs project url> ...\r\n",
      "  pip install [options] [-e] <local project path> ...\r\n",
      "  pip install [options] <archive url/path> ...\r\n",
      "\r\n",
      "no such option: --user:\r\n"
     ]
    }
   ],
   "source": [
    "## Imports For Plotting\n",
    "import matplotlib.pyplot as plt\n",
    "import matplotlib.ticker as mtick\n",
    "!pip3 install plotly --user: #Plotly for interactive graphing\n",
    "import plotly.plotly as py\n",
    "import plotly.graph_objs as go"
   ]
  },
  {
   "cell_type": "code",
   "execution_count": 6,
   "metadata": {},
   "outputs": [
    {
     "data": {
      "image/png": "[encoded data removed]",
      "text/plain": [
       "<matplotlib.figure.Figure at 0x7fb3c35ed320>"
      ]
     },
     "metadata": {},
     "output_type": "display_data"
    }
   ],
   "source": [
    "## Note: this is a static plot with hardcoded variables which are not meant to be changed.\n",
    "## It is also processing a lot of data so it may take a minute.\n",
    "\n",
    "axes = plt.gca() # creates the axes\n",
    "\n",
    "## y axis\n",
    "yAxis = 'AwardAmount'\n",
    "y = byAwardAmount[yAxis]\n",
    "y = y/10**6 # scales y\n",
    "plt.ylabel(yAxis+' In Millions', fontsize=18) # y axis label\n",
    "\n",
    "## x axis\n",
    "x = range(byAwardAmount.shape[0])\n",
    "plt.xlabel('IndividualResearchers', fontsize=16) # x axis label\n",
    "axes.set_xticklabels([]) # make it so the x axis is not numbered\n",
    "\n",
    "plt.title(str(year) + ' NSERC Funding Distribution') # plot title\n",
    "plot = plt.scatter(x,y,s=1) # make the plot\n",
    "plt.show() # draw the plot"
   ]
  },
  {
   "cell_type": "code",
   "execution_count": null,
   "metadata": {},
   "outputs": [],
   "source": []
  },
  {
   "cell_type": "code",
   "execution_count": null,
   "metadata": {
    "collapsed": true
   },
   "outputs": [],
   "source": []
  }
 ],
 "metadata": {
  "kernelspec": {
   "display_name": "Python 3",
   "language": "python",
   "name": "python3"
  },
  "language_info": {
   "codemirror_mode": {
    "name": "ipython",
    "version": 3
   },
   "file_extension": ".py",
   "mimetype": "text/x-python",
   "name": "python",
   "nbconvert_exporter": "python",
   "pygments_lexer": "ipython3",
   "version": "3.6.2"
  }
 },
 "nbformat": 4,
 "nbformat_minor": 2
}
