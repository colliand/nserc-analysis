{
 "cells": [
  {
   "cell_type": "markdown",
   "metadata": {},
   "source": [
    "# 2012-2016 NSERC Data\n",
    "\n",
    "Canada's [Open Government Portal](http://open.canada.ca/en) includes [NSERC Awards Data](http://open.canada.ca/data/en/dataset/c1b0f627-8c29-427c-ab73-33968ad9176e) from 1991 through 2014. The [2015](http://www.nserc-crsng.gc.ca/NSERC-CRSNG/FundingDecisions-DecisionsFinancement/ResearchGrants-SubventionsDeRecherche/ResultsGSC-ResultatsCSS_eng.asp?Year=2015) and [2016](http://www.nserc-crsng.gc.ca/NSERC-CRSNG/FundingDecisions-DecisionsFinancement/ResearchGrants-SubventionsDeRecherche/ResultsGSC-ResultatsCSS_eng.asp?Year=2016) data are exposed on web pages but are not yet released on the Open Portal. We scrape data from the web pages to analyze recent trends in NSERC investments across the Evaluation Groups. \n",
    "\n",
    "This notebook is a quick example on turning HTML data into a DataFrame. The code below simply makes a request for the data, splits it up using [Beautiful Soup](https://www.crummy.com/software/BeautifulSoup/bs4/doc/) and then builds some lists that we can turn into a DataFrame.\n",
    "\n",
    "HTML can be frustratingly imprecise and error ridden, but beautiful soup can be convinced to handle most of these idiosyncrasies. Happily though the NSERC pages used below as an example seem to be reasonably well formed.\n",
    "\n",
    "> This notebook was initially built as part of the PIMS exploration of Jupyter notebooks during Summer 2016. I'm grateful for input from Ian Allison, Andrew Cote, Eric Easthope and Ricky Hu. --J. Colliander"
   ]
  },
  {
   "cell_type": "code",
   "execution_count": 1,
   "metadata": {
    "collapsed": true
   },
   "outputs": [],
   "source": [
    "## Import some resources for data analysis and graphical visualization.\n",
    "from bs4 import BeautifulSoup\n",
    "import pandas as pd\n",
    "import numpy as np\n",
    "import requests\n",
    "import os\n",
    "import matplotlib.pyplot as plt\n",
    "import seaborn as sns\n",
    "\n",
    "%matplotlib inline\n",
    "plt.rcParams['figure.figsize'] = 10, 6"
   ]
  },
  {
   "cell_type": "code",
   "execution_count": 2,
   "metadata": {
    "collapsed": false
   },
   "outputs": [],
   "source": [
    "def getNSERCGrants(year=2016,group=1508):\n",
    "    \"\"\"\n",
    "    Here you are looking for some way to uniquely identify the object \n",
    "    we are interested in. In this case our table is wrapped in a div \n",
    "    with `class=\"DataTable2\"`\n",
    "    \n",
    "    Keyword arguments:\n",
    "    year -- The year for which to extract data 2012 <= year <= 2016\n",
    "    group - the NSERC evaluation group, 19, and 1501 thru 1512. \n",
    "       (Note RTI's also available, labeled 1601 thru 1609, skips 06, 08.)\n",
    "    \n",
    "    Returns:\n",
    "       pandas.DataFrame: The data for that year\n",
    "    \"\"\"\n",
    "    \n",
    "    # GSC=1508 is the \"Evaluation Group\" for Math, other groups are\n",
    "    # available but differ year-by-year. It might be nice to make\n",
    "    # these things selectable as widgets.\n",
    "    r  = requests.get(\"http://www.nserc-crsng.gc.ca/NSERC-CRSNG/\" + \n",
    "                  \"FundingDecisions-DecisionsFinancement/\" +\n",
    "                  \"ResearchGrants-SubventionsDeRecherche/\" +\n",
    "                  \"ResultsGSCDetail-ResultatsCSSDetails_eng.asp?Year=\" +\n",
    "                  str(year) + \"&GSC=\" + str(group))\n",
    "    \n",
    "\n",
    "    #soup = BeautifulSoup(r.text, \"html5lib\")\n",
    "    soup = BeautifulSoup(r.text, \"html.parser\")\n",
    "\n",
    "    table = soup.find('div', attrs={'class':'DataTable2'})\n",
    "    table_body = table.find('tbody')\n",
    "    \n",
    "    # Pick out the headings first\n",
    "    headings = [th.get_text() for th in table.find(\"tr\").find_all(\"th\")]\n",
    "    \n",
    "    datasets = []\n",
    "    for row in table.find_all(\"tr\")[1:]:\n",
    "        dataset = [td.get_text() for td in row.find_all(\"td\")]\n",
    "        datasets.append(dataset)\n",
    "        \n",
    "    data = pd.DataFrame(datasets, columns=headings)\n",
    "    data['Awarded Amount'] = data['Awarded Amount'].map(\n",
    "        lambda x: np.float(x.lstrip('$').replace(',','')))\n",
    "    return data"
   ]
  },
  {
   "cell_type": "code",
   "execution_count": 3,
   "metadata": {
    "collapsed": false
   },
   "outputs": [
    {
     "data": {
      "text/html": [
       "<div>\n",
       "<table border=\"1\" class=\"dataframe\">\n",
       "  <thead>\n",
       "    <tr style=\"text-align: right;\">\n",
       "      <th></th>\n",
       "      <th>Applicant Name</th>\n",
       "      <th>Institution</th>\n",
       "      <th>Program</th>\n",
       "      <th>Title</th>\n",
       "      <th>Term</th>\n",
       "      <th>Awarded Amount</th>\n",
       "    </tr>\n",
       "  </thead>\n",
       "  <tbody>\n",
       "    <tr>\n",
       "      <th>0</th>\n",
       "      <td>Abrahamowicz, MichalDepartmentEpidemiology, Bi...</td>\n",
       "      <td>McGill</td>\n",
       "      <td>RGPIN</td>\n",
       "      <td>Flexible statistical models for dynamic predic...</td>\n",
       "      <td>1</td>\n",
       "      <td>20000.0</td>\n",
       "    </tr>\n",
       "    <tr>\n",
       "      <th>1</th>\n",
       "      <td>Agueh, MartialDepartmentMathematics and Statis...</td>\n",
       "      <td>Victoria</td>\n",
       "      <td>RGPIN</td>\n",
       "      <td>Kinetic granular media, Wasserstein barycenter...</td>\n",
       "      <td>5</td>\n",
       "      <td>20000.0</td>\n",
       "    </tr>\n",
       "    <tr>\n",
       "      <th>2</th>\n",
       "      <td>Akbary, AmirDepartmentMathematics and Computer...</td>\n",
       "      <td>Lethbridge</td>\n",
       "      <td>RGPIN</td>\n",
       "      <td>Elliptic Curves and L-functions</td>\n",
       "      <td>5</td>\n",
       "      <td>16000.0</td>\n",
       "    </tr>\n",
       "    <tr>\n",
       "      <th>3</th>\n",
       "      <td>Assem, IbrahimDepartmentMathématiques - Mathém...</td>\n",
       "      <td>Université de Sherbrooke</td>\n",
       "      <td>RGPIN</td>\n",
       "      <td>Représentations des algèbres et algèbres amassées</td>\n",
       "      <td>5</td>\n",
       "      <td>25000.0</td>\n",
       "    </tr>\n",
       "    <tr>\n",
       "      <th>4</th>\n",
       "      <td>Bailey, RobertDepartmentGrenfell Campus - Gren...</td>\n",
       "      <td>Memorial Univ. of Nfld</td>\n",
       "      <td>RGPIN</td>\n",
       "      <td>Graphs, Designs, Codes and Groups: Topics in A...</td>\n",
       "      <td>5</td>\n",
       "      <td>17000.0</td>\n",
       "    </tr>\n",
       "  </tbody>\n",
       "</table>\n",
       "</div>"
      ],
      "text/plain": [
       "                                      Applicant Name  \\\n",
       "0  Abrahamowicz, MichalDepartmentEpidemiology, Bi...   \n",
       "1  Agueh, MartialDepartmentMathematics and Statis...   \n",
       "2  Akbary, AmirDepartmentMathematics and Computer...   \n",
       "3  Assem, IbrahimDepartmentMathématiques - Mathém...   \n",
       "4  Bailey, RobertDepartmentGrenfell Campus - Gren...   \n",
       "\n",
       "                Institution Program  \\\n",
       "0                    McGill   RGPIN   \n",
       "1                  Victoria   RGPIN   \n",
       "2                Lethbridge   RGPIN   \n",
       "3  Université de Sherbrooke   RGPIN   \n",
       "4    Memorial Univ. of Nfld   RGPIN   \n",
       "\n",
       "                                               Title Term  Awarded Amount  \n",
       "0  Flexible statistical models for dynamic predic...    1         20000.0  \n",
       "1  Kinetic granular media, Wasserstein barycenter...    5         20000.0  \n",
       "2                    Elliptic Curves and L-functions    5         16000.0  \n",
       "3  Représentations des algèbres et algèbres amassées    5         25000.0  \n",
       "4  Graphs, Designs, Codes and Groups: Topics in A...    5         17000.0  "
      ]
     },
     "execution_count": 3,
     "metadata": {},
     "output_type": "execute_result"
    }
   ],
   "source": [
    "NSERCdf = getNSERCGrants()\n",
    "NSERCdf.head()"
   ]
  },
  {
   "cell_type": "markdown",
   "metadata": {},
   "source": [
    "## Bulk collection\n",
    "\n",
    "Now we'll loop over years and evaluation groups, and collect some more data."
   ]
  },
  {
   "cell_type": "code",
   "execution_count": 14,
   "metadata": {
    "collapsed": true
   },
   "outputs": [],
   "source": [
    "years = [2012, 2013, 2014, 2015, 2016]\n",
    "groups = [19, 1501,1502,1503,1504,1505,1506,1507,1508,1509,1510,1511,1512]\n",
    "groups_no19 = [1501,1502,1503,1504,1505,1506,1507,1508,1509,1510,1511,1512]"
   ]
  },
  {
   "cell_type": "code",
   "execution_count": 5,
   "metadata": {
    "collapsed": false
   },
   "outputs": [
    {
     "data": {
      "text/html": [
       "<div>\n",
       "<table border=\"1\" class=\"dataframe\">\n",
       "  <thead>\n",
       "    <tr style=\"text-align: right;\">\n",
       "      <th></th>\n",
       "      <th>Year</th>\n",
       "      <th>Group</th>\n",
       "      <th>level_0</th>\n",
       "      <th>Applicant Name</th>\n",
       "      <th>Institution</th>\n",
       "      <th>Program</th>\n",
       "      <th>Title</th>\n",
       "      <th>Term</th>\n",
       "      <th>Awarded Amount</th>\n",
       "    </tr>\n",
       "  </thead>\n",
       "  <tbody>\n",
       "    <tr>\n",
       "      <th>0</th>\n",
       "      <td>2012</td>\n",
       "      <td>19</td>\n",
       "      <td>0</td>\n",
       "      <td>Andreoiu, Corina CDepartmentChemistry</td>\n",
       "      <td>Simon Fraser</td>\n",
       "      <td>SAPPJ</td>\n",
       "      <td>Precision Electron Capture Branching Ratio Mea...</td>\n",
       "      <td>3</td>\n",
       "      <td>160000.0</td>\n",
       "    </tr>\n",
       "    <tr>\n",
       "      <th>1</th>\n",
       "      <td>2012</td>\n",
       "      <td>19</td>\n",
       "      <td>1</td>\n",
       "      <td>Austin, Roby RAEDepartmentAstronomy and Physics</td>\n",
       "      <td>Saint Mary's</td>\n",
       "      <td>SAPIN</td>\n",
       "      <td>Single-nucleon effects revealed through gamma-...</td>\n",
       "      <td>1</td>\n",
       "      <td>15000.0</td>\n",
       "    </tr>\n",
       "    <tr>\n",
       "      <th>2</th>\n",
       "      <td>2012</td>\n",
       "      <td>19</td>\n",
       "      <td>2</td>\n",
       "      <td>Baartman, Richard ADepartmentAccelerator Techn...</td>\n",
       "      <td>TRIUMF</td>\n",
       "      <td>SAPPJ</td>\n",
       "      <td>Cyclotron Physics</td>\n",
       "      <td>3</td>\n",
       "      <td>15000.0</td>\n",
       "    </tr>\n",
       "    <tr>\n",
       "      <th>3</th>\n",
       "      <td>2012</td>\n",
       "      <td>19</td>\n",
       "      <td>3</td>\n",
       "      <td>Barkanova, Svetlana SDepartmentPhysics</td>\n",
       "      <td>Acadia</td>\n",
       "      <td>SAPIN</td>\n",
       "      <td>Electroweak Radiative Effects and Hadronic Str...</td>\n",
       "      <td>5</td>\n",
       "      <td>20000.0</td>\n",
       "    </tr>\n",
       "    <tr>\n",
       "      <th>4</th>\n",
       "      <td>2012</td>\n",
       "      <td>19</td>\n",
       "      <td>4</td>\n",
       "      <td>Behr, John JADepartmentScience Division</td>\n",
       "      <td>TRIUMF</td>\n",
       "      <td>SAPPJ</td>\n",
       "      <td>TRIUMF neutral atom trap for beta decay studies</td>\n",
       "      <td>3</td>\n",
       "      <td>143000.0</td>\n",
       "    </tr>\n",
       "  </tbody>\n",
       "</table>\n",
       "</div>"
      ],
      "text/plain": [
       "   Year  Group  level_0                                     Applicant Name  \\\n",
       "0  2012     19        0              Andreoiu, Corina CDepartmentChemistry   \n",
       "1  2012     19        1    Austin, Roby RAEDepartmentAstronomy and Physics   \n",
       "2  2012     19        2  Baartman, Richard ADepartmentAccelerator Techn...   \n",
       "3  2012     19        3             Barkanova, Svetlana SDepartmentPhysics   \n",
       "4  2012     19        4            Behr, John JADepartmentScience Division   \n",
       "\n",
       "    Institution Program                                              Title  \\\n",
       "0  Simon Fraser   SAPPJ  Precision Electron Capture Branching Ratio Mea...   \n",
       "1  Saint Mary's   SAPIN  Single-nucleon effects revealed through gamma-...   \n",
       "2        TRIUMF   SAPPJ                                  Cyclotron Physics   \n",
       "3        Acadia   SAPIN  Electroweak Radiative Effects and Hadronic Str...   \n",
       "4        TRIUMF   SAPPJ    TRIUMF neutral atom trap for beta decay studies   \n",
       "\n",
       "  Term  Awarded Amount  \n",
       "0    3        160000.0  \n",
       "1    1         15000.0  \n",
       "2    3         15000.0  \n",
       "3    5         20000.0  \n",
       "4    3        143000.0  "
      ]
     },
     "execution_count": 5,
     "metadata": {},
     "output_type": "execute_result"
    }
   ],
   "source": [
    "NSERCcsv = \"./NSERCAllDF.csv\"\n",
    "cachedData = True\n",
    "\n",
    "if os.path.isfile(NSERCcsv) and cachedData:\n",
    "    print(\"USING CACHED DATA!!!!!!\")\n",
    "    NSERCAllDF = pd.read_csv(NSERCcsv)\n",
    "else:\n",
    "    NSERCAnnualDF = {(year,group) : getNSERCGrants(year,group) for year in years for group in groups}\n",
    "    NSERCAllDF = pd.DataFrame(\n",
    "    pd.concat(NSERCAnnualDF, names=['Year','Group']).to_records())\n",
    "#    NSERCAllDF = NSERCAllDF.drop('id', 1)\n",
    "\n",
    "# Drop the extra index\n",
    "NSERCAllDF.head()"
   ]
  },
  {
   "cell_type": "code",
   "execution_count": 6,
   "metadata": {
    "collapsed": false
   },
   "outputs": [],
   "source": [
    "a = NSERCAllDF[NSERCAllDF.Year == 2016]"
   ]
  },
  {
   "cell_type": "code",
   "execution_count": 7,
   "metadata": {
    "collapsed": false
   },
   "outputs": [
    {
     "data": {
      "text/plain": [
       "<matplotlib.axes._subplots.AxesSubplot at 0x7f61c173bb38>"
      ]
     },
     "execution_count": 7,
     "metadata": {},
     "output_type": "execute_result"
    },
    {
     "data": {
      "image/png": "[encoded data removed]",
      "text/plain": [
       "<matplotlib.figure.Figure at 0x7f61cefaa198>"
      ]
     },
     "metadata": {},
     "output_type": "display_data"
    }
   ],
   "source": [
    "NSERCAllDF.groupby('Group')['Awarded Amount'].sum().plot.bar()"
   ]
  },
  {
   "cell_type": "markdown",
   "metadata": {},
   "source": [
    "Total investment in 1508 (Mathematics and Statistics) is the smallest across all Evaluation Groups."
   ]
  },
  {
   "cell_type": "markdown",
   "metadata": {},
   "source": [
    "## Legend\n",
    "\n",
    "\n",
    "|Evaluation Group | Committee Name|\n",
    "| --- | --- |\n",
    "|19 |\tSubatomic Physics |\n",
    "|1501 |\tGenes, Cells and Molecules |\n",
    "|1502 |\tBiological Systems and Functions |\n",
    "|1503 |\tEvolution and Ecology |\n",
    "|1504 |\tChemistry |\n",
    "|1505 |\tPhysics |\n",
    "|1506 |\tGeosciences |\n",
    "|1507 |\tComputer Science |\n",
    "|1508 |\tMathematics and Statistics |\n",
    "|1509 |\tCivil, Industrial and Systems Engineering |\n",
    "|1510 |\tElectrical and Computer Engineering |\n",
    "|1511 |\tMaterials and Chemical Engineering |\n",
    "|1512 |\tMechanical Engineering |\n",
    "|1601 |\tGenes, Cells and Molecules (RTI) |\n",
    "|1602 |\tBiological Systems and Functions (RTI) |\n",
    "|1603 |\tEnvironmental Sciences (RTI) |\n",
    "|1604 |\tChemistry (RTI) |\n",
    "|1605 |\tPhysics (RTI) |\n",
    "|1607 |\tComputer, Mathematical and Statistical Sciences (RTI) |\n",
    "|1609 |\tEngineering (RTI) |\n"
   ]
  },
  {
   "cell_type": "code",
   "execution_count": 8,
   "metadata": {
    "collapsed": false
   },
   "outputs": [
    {
     "data": {
      "text/plain": [
       "<matplotlib.axes._subplots.AxesSubplot at 0x7f61c165a278>"
      ]
     },
     "execution_count": 8,
     "metadata": {},
     "output_type": "execute_result"
    },
    {
     "data": {
      "image/png": "[encoded data removed]",
      "text/plain": [
       "<matplotlib.figure.Figure at 0x7f61c1705668>"
      ]
     },
     "metadata": {},
     "output_type": "display_data"
    }
   ],
   "source": [
    "# Look at all the research grants only, no equipment\n",
    "NSERCAllDF[NSERCAllDF.Program == 'RGPIN'].boxplot(column='Awarded Amount', by='Group', whis=1000)"
   ]
  },
  {
   "cell_type": "markdown",
   "metadata": {},
   "source": [
    "Average grant sizes in 1508 (Mathematics and Statistics) is the smallest across all Evaluation Groups."
   ]
  },
  {
   "cell_type": "code",
   "execution_count": 9,
   "metadata": {
    "collapsed": false
   },
   "outputs": [
    {
     "data": {
      "text/plain": [
       "<matplotlib.axes._subplots.AxesSubplot at 0x7f61c142b9b0>"
      ]
     },
     "execution_count": 9,
     "metadata": {},
     "output_type": "execute_result"
    },
    {
     "data": {
      "image/png": "[encoded data removed]",
      "text/plain": [
       "<matplotlib.figure.Figure at 0x7f61c15a1e10>"
      ]
     },
     "metadata": {},
     "output_type": "display_data"
    }
   ],
   "source": [
    "# Darn it, Subatomic physics gets left out, as they use a different code for their grants\n",
    "NSERCAllDF[NSERCAllDF.Program == 'SAPIN'].boxplot(column='Awarded Amount', by='Group', whis=1000)"
   ]
  },
  {
   "cell_type": "code",
   "execution_count": 10,
   "metadata": {
    "collapsed": false
   },
   "outputs": [
    {
     "data": {
      "image/png": "[encoded data removed]",
      "text/plain": [
       "<matplotlib.figure.Figure at 0x7f61c1660ac8>"
      ]
     },
     "metadata": {},
     "output_type": "display_data"
    }
   ],
   "source": [
    "# Here is a plot of individual research grants, by discipline. The lowest (1508) is math/stat\n",
    "NSERC_RGPIN = NSERCAllDF[NSERCAllDF.Program == 'RGPIN']\n",
    "ax = sns.boxplot(x=NSERC_RGPIN['Group'], y=NSERC_RGPIN['Awarded Amount'])"
   ]
  },
  {
   "cell_type": "code",
   "execution_count": 11,
   "metadata": {
    "collapsed": false
   },
   "outputs": [
    {
     "data": {
      "text/plain": [
       "<matplotlib.axes._subplots.AxesSubplot at 0x7f61c186ec88>"
      ]
     },
     "execution_count": 11,
     "metadata": {},
     "output_type": "execute_result"
    },
    {
     "data": {
      "image/png": "[encoded data removed]",
      "text/plain": [
       "<matplotlib.figure.Figure at 0x7f61c1509ac8>"
      ]
     },
     "metadata": {},
     "output_type": "display_data"
    }
   ],
   "source": [
    "# Here is the total amount distributed over 5 years to each discipline. Reseach grants only (no EQP)\n",
    "# But again, Supatomic physics doesn't show up as it uses a different code.\n",
    "NSERC_RGPIN.groupby('Group')['Awarded Amount'].sum().plot.bar()"
   ]
  },
  {
   "cell_type": "code",
   "execution_count": 12,
   "metadata": {
    "collapsed": false
   },
   "outputs": [
    {
     "data": {
      "text/html": [
       "<div>\n",
       "<table border=\"1\" class=\"dataframe\">\n",
       "  <thead>\n",
       "    <tr style=\"text-align: right;\">\n",
       "      <th></th>\n",
       "      <th>Year</th>\n",
       "      <th>Group</th>\n",
       "      <th>level_0</th>\n",
       "      <th>Applicant Name</th>\n",
       "      <th>Institution</th>\n",
       "      <th>Program</th>\n",
       "      <th>Title</th>\n",
       "      <th>Term</th>\n",
       "      <th>Awarded Amount</th>\n",
       "    </tr>\n",
       "  </thead>\n",
       "  <tbody>\n",
       "    <tr>\n",
       "      <th>1013</th>\n",
       "      <td>2012</td>\n",
       "      <td>1504</td>\n",
       "      <td>129</td>\n",
       "      <td>Winnik, Mitchell MADepartmentChemistry</td>\n",
       "      <td>Toronto</td>\n",
       "      <td>RGPIN</td>\n",
       "      <td>Polymer conformation, Dynamics, and Morphology</td>\n",
       "      <td>5</td>\n",
       "      <td>171000.0</td>\n",
       "    </tr>\n",
       "    <tr>\n",
       "      <th>3443</th>\n",
       "      <td>2013</td>\n",
       "      <td>1504</td>\n",
       "      <td>115</td>\n",
       "      <td>Scaiano, Juan Cesar JCDepartmentChemistry</td>\n",
       "      <td>Ottawa</td>\n",
       "      <td>RGPIN</td>\n",
       "      <td>Physical organic chemistry in nanotechnology a...</td>\n",
       "      <td>5</td>\n",
       "      <td>200000.0</td>\n",
       "    </tr>\n",
       "    <tr>\n",
       "      <th>3474</th>\n",
       "      <td>2013</td>\n",
       "      <td>1504</td>\n",
       "      <td>146</td>\n",
       "      <td>Withers, Stephen GDepartmentChemistry</td>\n",
       "      <td>British Columbia</td>\n",
       "      <td>RGPIN</td>\n",
       "      <td>Interactions and Reactions of Carbohydrates an...</td>\n",
       "      <td>5</td>\n",
       "      <td>160000.0</td>\n",
       "    </tr>\n",
       "    <tr>\n",
       "      <th>5640</th>\n",
       "      <td>2014</td>\n",
       "      <td>1504</td>\n",
       "      <td>28</td>\n",
       "      <td>Charette, AndréDepartmentChimie</td>\n",
       "      <td>Université de Montréal</td>\n",
       "      <td>RGPIN</td>\n",
       "      <td>New Methods for the Stereoselective Synthesis ...</td>\n",
       "      <td>5</td>\n",
       "      <td>165000.0</td>\n",
       "    </tr>\n",
       "    <tr>\n",
       "      <th>5716</th>\n",
       "      <td>2014</td>\n",
       "      <td>1504</td>\n",
       "      <td>104</td>\n",
       "      <td>Polanyi, JohnDepartmentChemistry</td>\n",
       "      <td>Toronto</td>\n",
       "      <td>RGPIN</td>\n",
       "      <td>Reaction Dynamics At Surfaces, A-Molecule-At-A...</td>\n",
       "      <td>5</td>\n",
       "      <td>190000.0</td>\n",
       "    </tr>\n",
       "    <tr>\n",
       "      <th>5735</th>\n",
       "      <td>2014</td>\n",
       "      <td>1504</td>\n",
       "      <td>123</td>\n",
       "      <td>Stephan, DouglasDepartmentChemistry</td>\n",
       "      <td>Toronto</td>\n",
       "      <td>RGPIN</td>\n",
       "      <td>Frustrated Lewis Pairs: Metal-Free Synthesis a...</td>\n",
       "      <td>5</td>\n",
       "      <td>155000.0</td>\n",
       "    </tr>\n",
       "  </tbody>\n",
       "</table>\n",
       "</div>"
      ],
      "text/plain": [
       "      Year  Group  level_0                             Applicant Name  \\\n",
       "1013  2012   1504      129     Winnik, Mitchell MADepartmentChemistry   \n",
       "3443  2013   1504      115  Scaiano, Juan Cesar JCDepartmentChemistry   \n",
       "3474  2013   1504      146      Withers, Stephen GDepartmentChemistry   \n",
       "5640  2014   1504       28            Charette, AndréDepartmentChimie   \n",
       "5716  2014   1504      104           Polanyi, JohnDepartmentChemistry   \n",
       "5735  2014   1504      123        Stephan, DouglasDepartmentChemistry   \n",
       "\n",
       "                 Institution Program  \\\n",
       "1013                 Toronto   RGPIN   \n",
       "3443                  Ottawa   RGPIN   \n",
       "3474        British Columbia   RGPIN   \n",
       "5640  Université de Montréal   RGPIN   \n",
       "5716                 Toronto   RGPIN   \n",
       "5735                 Toronto   RGPIN   \n",
       "\n",
       "                                                  Title Term  Awarded Amount  \n",
       "1013     Polymer conformation, Dynamics, and Morphology    5        171000.0  \n",
       "3443  Physical organic chemistry in nanotechnology a...    5        200000.0  \n",
       "3474  Interactions and Reactions of Carbohydrates an...    5        160000.0  \n",
       "5640  New Methods for the Stereoselective Synthesis ...    5        165000.0  \n",
       "5716  Reaction Dynamics At Surfaces, A-Molecule-At-A...    5        190000.0  \n",
       "5735  Frustrated Lewis Pairs: Metal-Free Synthesis a...    5        155000.0  "
      ]
     },
     "execution_count": 12,
     "metadata": {},
     "output_type": "execute_result"
    }
   ],
   "source": [
    "# The really big research grants are in Chemistry (group 1504)\n",
    "NSERC_RGPIN[NSERC_RGPIN['Awarded Amount'] > 150000]"
   ]
  },
  {
   "cell_type": "code",
   "execution_count": 13,
   "metadata": {
    "collapsed": false
   },
   "outputs": [
    {
     "data": {
      "image/png": "[encoded data removed]",
      "text/plain": [
       "<matplotlib.figure.Figure at 0x7f61c15f84a8>"
      ]
     },
     "metadata": {},
     "output_type": "display_data"
    }
   ],
   "source": [
    "# Let's look at math/stats grants over time.\n",
    "MATHONLY = NSERCAllDF[NSERCAllDF.Group == 1508]\n",
    "ax = sns.boxplot(x=MATHONLY['Year'], y=MATHONLY['Awarded Amount'])"
   ]
  },
  {
   "cell_type": "code",
   "execution_count": null,
   "metadata": {
    "collapsed": true
   },
   "outputs": [],
   "source": []
  }
 ],
 "metadata": {
  "kernelspec": {
   "display_name": "Python 3",
   "language": "python",
   "name": "python3"
  },
  "language_info": {
   "codemirror_mode": {
    "name": "ipython",
    "version": 3
   },
   "file_extension": ".py",
   "mimetype": "text/x-python",
   "name": "python",
   "nbconvert_exporter": "python",
   "pygments_lexer": "ipython3",
   "version": "3.5.2"
  }
 },
 "nbformat": 4,
 "nbformat_minor": 0
}
