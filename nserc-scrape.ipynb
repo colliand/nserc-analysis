{
 "cells": [
  {
   "cell_type": "markdown",
   "metadata": {},
   "source": [
    "# 2012-2016 NSERC Data\n",
    "\n",
    "Canada's [Open Government Portal](http://open.canada.ca/en) includes [NSERC Awards Data](http://open.canada.ca/data/en/dataset/c1b0f627-8c29-427c-ab73-33968ad9176e) from 1991 through 2014. The [2015](http://www.nserc-crsng.gc.ca/NSERC-CRSNG/FundingDecisions-DecisionsFinancement/ResearchGrants-SubventionsDeRecherche/ResultsGSC-ResultatsCSS_eng.asp?Year=2015) and [2016](http://www.nserc-crsng.gc.ca/NSERC-CRSNG/FundingDecisions-DecisionsFinancement/ResearchGrants-SubventionsDeRecherche/ResultsGSC-ResultatsCSS_eng.asp?Year=2016) data are exposed on web pages but are not yet released on the Open Portal. We scrape data from the web pages to analyze recent trends in NSERC investments across the Evaluation Groups. \n",
    "\n",
    "This notebook is a quick example on turning HTML data into a DataFrame. The code below simply makes a request for the data, splits it up using [Beautiful Soup](https://www.crummy.com/software/BeautifulSoup/bs4/doc/) and then builds some lists that we can turn into a DataFrame.\n",
    "\n",
    "HTML can be frustratingly imprecise and error ridden, but beautiful soup can be convinced to handle most of these idiosyncrasies. Happily though the NSERC pages used below as an example seem to be reasonably well formed.\n",
    "\n",
    "> This notebook was initially built as part of the PIMS exploration of Jupyter notebooks during Summer 2016. I'm grateful for input from Ian Allison, Andrew Cote, Eric Easthope and Ricky Hu. --J. Colliander"
   ]
  },
  {
   "cell_type": "code",
   "execution_count": null,
   "metadata": {
    "collapsed": true
   },
   "outputs": [],
   "source": [
    "## Import some resources for data analysis and graphical visualization.\n",
    "from bs4 import BeautifulSoup\n",
    "import pandas as pd\n",
    "import numpy as np\n",
    "import requests\n",
    "import os\n",
    "import matplotlib.pyplot as plt\n",
    "import seaborn as sns\n",
    "\n",
    "%matplotlib inline\n",
    "plt.rcParams['figure.figsize'] = 10, 6"
   ]
  },
  {
   "cell_type": "code",
   "execution_count": null,
   "metadata": {},
   "outputs": [],
   "source": [
    "def getNSERCGrants(year=2016,group=1508):\n",
    "    \"\"\"\n",
    "    Here you are looking for some way to uniquely identify the object \n",
    "    we are interested in. In this case our table is wrapped in a div \n",
    "    with `class=\"DataTable2\"`\n",
    "    \n",
    "    Keyword arguments:\n",
    "    year -- The year for which to extract data 2012 <= year <= 2016\n",
    "    group - the NSERC evaluation group, 19, and 1501 thru 1512. \n",
    "       (Note RTI's also available, labeled 1601 thru 1609, skips 06, 08.)\n",
    "    \n",
    "    Returns:\n",
    "       pandas.DataFrame: The data for that year\n",
    "    \"\"\"\n",
    "    \n",
    "    # GSC=1508 is the \"Evaluation Group\" for Math, other groups are\n",
    "    # available but differ year-by-year. It might be nice to make\n",
    "    # these things selectable as widgets.\n",
    "    r  = requests.get(\"http://www.nserc-crsng.gc.ca/NSERC-CRSNG/\" + \n",
    "                  \"FundingDecisions-DecisionsFinancement/\" +\n",
    "                  \"ResearchGrants-SubventionsDeRecherche/\" +\n",
    "                  \"ResultsGSCDetail-ResultatsCSSDetails_eng.asp?Year=\" +\n",
    "                  str(year) + \"&GSC=\" + str(group))\n",
    "    \n",
    "\n",
    "    #soup = BeautifulSoup(r.text, \"html5lib\")\n",
    "    soup = BeautifulSoup(r.text, \"html.parser\")\n",
    "\n",
    "    table = soup.find('div', attrs={'class':'DataTable2'})\n",
    "    table_body = table.find('tbody')\n",
    "    \n",
    "    # Pick out the headings first\n",
    "    headings = [th.get_text() for th in table.find(\"tr\").find_all(\"th\")]\n",
    "    \n",
    "    datasets = []\n",
    "    for row in table.find_all(\"tr\")[1:]:\n",
    "        dataset = [td.get_text() for td in row.find_all(\"td\")]\n",
    "        datasets.append(dataset)\n",
    "        \n",
    "    data = pd.DataFrame(datasets, columns=headings)\n",
    "    data['Awarded Amount'] = data['Awarded Amount'].map(\n",
    "        lambda x: np.float(x.lstrip('$').replace(',','')))\n",
    "    return data"
   ]
  },
  {
   "cell_type": "code",
   "execution_count": null,
   "metadata": {},
   "outputs": [],
   "source": [
    "NSERCdf = getNSERCGrants()\n",
    "NSERCdf.head()"
   ]
  },
  {
   "cell_type": "markdown",
   "metadata": {},
   "source": [
    "## Bulk collection\n",
    "\n",
    "Now we'll loop over years and evaluation groups, and collect some more data."
   ]
  },
  {
   "cell_type": "code",
   "execution_count": null,
   "metadata": {
    "collapsed": true
   },
   "outputs": [],
   "source": [
    "years = [2012, 2013, 2014, 2015, 2016]\n",
    "groups = [19, 1501,1502,1503,1504,1505,1506,1507,1508,1509,1510,1511,1512]\n",
    "groups_no19 = [1501,1502,1503,1504,1505,1506,1507,1508,1509,1510,1511,1512]"
   ]
  },
  {
   "cell_type": "code",
   "execution_count": null,
   "metadata": {},
   "outputs": [],
   "source": [
    "NSERCcsv = \"./NSERCAllDF.csv\"\n",
    "cachedData = True\n",
    "\n",
    "if os.path.isfile(NSERCcsv) and cachedData:\n",
    "    print(\"USING CACHED DATA!!!!!!\")\n",
    "    NSERCAllDF = pd.read_csv(NSERCcsv)\n",
    "else:\n",
    "    NSERCAnnualDF = {(year,group) : getNSERCGrants(year,group) for year in years for group in groups}\n",
    "    NSERCAllDF = pd.DataFrame(\n",
    "    pd.concat(NSERCAnnualDF, names=['Year','Group']).to_records())\n",
    "#    NSERCAllDF = NSERCAllDF.drop('id', 1)\n",
    "\n",
    "# Drop the extra index\n",
    "NSERCAllDF.head()"
   ]
  },
  {
   "cell_type": "code",
   "execution_count": null,
   "metadata": {},
   "outputs": [],
   "source": [
    "a = NSERCAllDF[NSERCAllDF.Year == 2016]"
   ]
  },
  {
   "cell_type": "code",
   "execution_count": null,
   "metadata": {},
   "outputs": [],
   "source": [
    "NSERCAllDF.groupby('Group')['Awarded Amount'].sum().plot.bar()"
   ]
  },
  {
   "cell_type": "markdown",
   "metadata": {},
   "source": [
    "Total investment in 1508 (Mathematics and Statistics) is the smallest across all Evaluation Groups."
   ]
  },
  {
   "cell_type": "markdown",
   "metadata": {},
   "source": [
    "## Legend\n",
    "\n",
    "\n",
    "|Evaluation Group | Committee Name|\n",
    "| --- | --- |\n",
    "|19 |\tSubatomic Physics |\n",
    "|1501 |\tGenes, Cells and Molecules |\n",
    "|1502 |\tBiological Systems and Functions |\n",
    "|1503 |\tEvolution and Ecology |\n",
    "|1504 |\tChemistry |\n",
    "|1505 |\tPhysics |\n",
    "|1506 |\tGeosciences |\n",
    "|1507 |\tComputer Science |\n",
    "|1508 |\tMathematics and Statistics |\n",
    "|1509 |\tCivil, Industrial and Systems Engineering |\n",
    "|1510 |\tElectrical and Computer Engineering |\n",
    "|1511 |\tMaterials and Chemical Engineering |\n",
    "|1512 |\tMechanical Engineering |\n",
    "|1601 |\tGenes, Cells and Molecules (RTI) |\n",
    "|1602 |\tBiological Systems and Functions (RTI) |\n",
    "|1603 |\tEnvironmental Sciences (RTI) |\n",
    "|1604 |\tChemistry (RTI) |\n",
    "|1605 |\tPhysics (RTI) |\n",
    "|1607 |\tComputer, Mathematical and Statistical Sciences (RTI) |\n",
    "|1609 |\tEngineering (RTI) |\n"
   ]
  },
  {
   "cell_type": "code",
   "execution_count": null,
   "metadata": {},
   "outputs": [],
   "source": [
    "# Look at all the research grants only, no equipment\n",
    "NSERCAllDF[NSERCAllDF.Program == 'RGPIN'].boxplot(column='Awarded Amount', by='Group', whis=1000)"
   ]
  },
  {
   "cell_type": "markdown",
   "metadata": {},
   "source": [
    "Average grant sizes in 1508 (Mathematics and Statistics) is the smallest across all Evaluation Groups."
   ]
  },
  {
   "cell_type": "code",
   "execution_count": null,
   "metadata": {},
   "outputs": [],
   "source": [
    "# Darn it, Subatomic physics gets left out, as they use a different code for their grants\n",
    "NSERCAllDF[NSERCAllDF.Program == 'SAPIN'].boxplot(column='Awarded Amount', by='Group', whis=1000)"
   ]
  },
  {
   "cell_type": "code",
   "execution_count": null,
   "metadata": {},
   "outputs": [],
   "source": [
    "# Here is a plot of individual research grants, by discipline. The lowest (1508) is math/stat\n",
    "NSERC_RGPIN = NSERCAllDF[NSERCAllDF.Program == 'RGPIN']\n",
    "ax = sns.boxplot(x=NSERC_RGPIN['Group'], y=NSERC_RGPIN['Awarded Amount'])"
   ]
  },
  {
   "cell_type": "code",
   "execution_count": null,
   "metadata": {},
   "outputs": [],
   "source": [
    "# Here is the total amount distributed over 5 years to each discipline. Reseach grants only (no EQP)\n",
    "# But again, Supatomic physics doesn't show up as it uses a different code.\n",
    "NSERC_RGPIN.groupby('Group')['Awarded Amount'].sum().plot.bar()"
   ]
  },
  {
   "cell_type": "code",
   "execution_count": null,
   "metadata": {},
   "outputs": [],
   "source": [
    "# The really big research grants are in Chemistry (group 1504)\n",
    "NSERC_RGPIN[NSERC_RGPIN['Awarded Amount'] > 150000]"
   ]
  },
  {
   "cell_type": "code",
   "execution_count": null,
   "metadata": {},
   "outputs": [],
   "source": [
    "# Let's look at math/stats grants over time.\n",
    "MATHONLY = NSERCAllDF[NSERCAllDF.Group == 1508]\n",
    "ax = sns.boxplot(x=MATHONLY['Year'], y=MATHONLY['Awarded Amount'])"
   ]
  },
  {
   "cell_type": "code",
   "execution_count": null,
   "metadata": {
    "collapsed": true
   },
   "outputs": [],
   "source": []
  }
 ],
 "metadata": {
  "kernelspec": {
   "display_name": "Python 3",
   "language": "python",
   "name": "python3"
  },
  "language_info": {
   "codemirror_mode": {
    "name": "ipython",
    "version": 3
   },
   "file_extension": ".py",
   "mimetype": "text/x-python",
   "name": "python",
   "nbconvert_exporter": "python",
   "pygments_lexer": "ipython3",
   "version": "3.6.2"
  }
 },
 "nbformat": 4,
 "nbformat_minor": 1
}
