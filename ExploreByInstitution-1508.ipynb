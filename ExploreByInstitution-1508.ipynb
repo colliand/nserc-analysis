{
 "cells": [
  {
   "cell_type": "markdown",
   "metadata": {},
   "source": [
    "\n",
    "<img src=\"http://www.nserc-crsng.gc.ca/_gui/wmms.gif\" alt=\"Canada logo\" align=\"right\">\n",
    "\n",
    "<br>\n",
    "\n",
    "<img src=\"http://www.triumf.ca/sites/default/files/styles/gallery_large/public/images/nserc_crsng.gif?itok=H7AhTN_F\" alt=\"NSERC logo\" align=\"right\" width = 90>\n",
    "\n",
    "\n",
    "\n",
    "# Exploring NSERC Awards Data\n",
    "\n",
    "\n",
    "Canada's [Open Government Portal](http://open.canada.ca/en) includes [NSERC Awards Data](http://open.canada.ca/data/en/dataset/c1b0f627-8c29-427c-ab73-33968ad9176e) from 1991 through 2016.\n",
    "\n",
    "The awards data (in .csv format) were copied to an [Amazon Web Services S3 bucket](http://docs.aws.amazon.com/AmazonS3/latest/dev/UsingBucket.html). This open Jupyter notebook starts an exploration of the NSERC investment portfolio during the 1995 -- 2016 epoch. If you'd like access to the data hosted on S3, please contact [James Colliander](http://colliand.com).)\n",
    "\n",
    "> **Acknowledgement:** I thank [Ian Allison](https://github.com/ianabc) and [James Colliander](http://colliand.com) of the [Pacific Institute for the Mathematical Sciences](http://www.pims.math.ca/) for building the [JupyterHub service](https://pims.jupyter.ca) and for help with this notebook. -- I. Heisz"
   ]
  },
  {
   "cell_type": "markdown",
   "metadata": {},
   "source": [
    "## Variables you Can Modify"
   ]
  },
  {
   "cell_type": "code",
   "execution_count": 8,
   "metadata": {
    "collapsed": true
   },
   "outputs": [],
   "source": [
    "startYear = 1995\n",
    "endYear   = 2017  # The end year is not included so write the last year you want + 1\n",
    "\n",
    "institution = 'University of British Columbia'"
   ]
  },
  {
   "cell_type": "markdown",
   "metadata": {},
   "source": [
    "## Import the Data"
   ]
  },
  {
   "cell_type": "code",
   "execution_count": 3,
   "metadata": {},
   "outputs": [
    {
     "name": "stdout",
     "output_type": "stream",
     "text": [
      "1995\n",
      "1996\n",
      "1997\n",
      "1998\n",
      "1999\n",
      "2000\n",
      "2001\n",
      "2002\n",
      "2003\n",
      "2004\n",
      "2005\n",
      "2006\n",
      "2007\n",
      "2008\n",
      "2009\n",
      "2010\n",
      "2011\n",
      "2012\n",
      "2013\n",
      "2014\n",
      "2015\n",
      "2016\n"
     ]
    }
   ],
   "source": [
    "import numpy as np\n",
    "import pandas as pd\n",
    "import sys\n",
    "\n",
    "df = pd.DataFrame()\n",
    "\n",
    "## Reads and processes the raw csv datafiles from NSERC, stored in Amazon s3.\n",
    "for year in range(startYear, endYear):\n",
    "    file = 'https://s3.ca-central-1.amazonaws.com/open-data-ro/NSERC/NSERC_GRT_FYR' + str(year) + '_AWARD.csv.gz'\n",
    "    df = df.append(pd.read_csv(file, compression='gzip', usecols = [4, 9, 11, 17], encoding='latin-1'))\n",
    "    \n",
    "    # Prints the year name of each file that is processed.\n",
    "    print(year)\n",
    "    \n",
    "## Rename columns for better readability.\n",
    "df.columns = ['Institution', 'FiscalYear', 'AwardAmount', 'Committee']  "
   ]
  },
  {
   "cell_type": "markdown",
   "metadata": {},
   "source": []
  },
  {
   "cell_type": "code",
   "execution_count": 25,
   "metadata": {},
   "outputs": [
    {
     "data": {
      "text/html": [
       "<div>\n",
       "<table border=\"1\" class=\"dataframe\">\n",
       "  <thead>\n",
       "    <tr style=\"text-align: right;\">\n",
       "      <th></th>\n",
       "      <th>Institution</th>\n",
       "      <th>FiscalYear</th>\n",
       "      <th>AwardAmount</th>\n",
       "      <th>Committee</th>\n",
       "    </tr>\n",
       "  </thead>\n",
       "  <tbody>\n",
       "    <tr>\n",
       "      <th>0</th>\n",
       "      <td>Queen's University</td>\n",
       "      <td>1995</td>\n",
       "      <td>41400</td>\n",
       "      <td>18</td>\n",
       "    </tr>\n",
       "    <tr>\n",
       "      <th>1</th>\n",
       "      <td>University of Alberta</td>\n",
       "      <td>1995</td>\n",
       "      <td>14000</td>\n",
       "      <td>16</td>\n",
       "    </tr>\n",
       "    <tr>\n",
       "      <th>2</th>\n",
       "      <td>University of Alberta</td>\n",
       "      <td>1995</td>\n",
       "      <td>5755</td>\n",
       "      <td>147</td>\n",
       "    </tr>\n",
       "    <tr>\n",
       "      <th>3</th>\n",
       "      <td>McGill University</td>\n",
       "      <td>1995</td>\n",
       "      <td>10380</td>\n",
       "      <td>146</td>\n",
       "    </tr>\n",
       "    <tr>\n",
       "      <th>4</th>\n",
       "      <td>GE Glegg Water Technologies Inc.</td>\n",
       "      <td>1995</td>\n",
       "      <td>3600</td>\n",
       "      <td>146</td>\n",
       "    </tr>\n",
       "  </tbody>\n",
       "</table>\n",
       "</div>"
      ],
      "text/plain": [
       "                        Institution  FiscalYear  AwardAmount  Committee\n",
       "0                Queen's University        1995        41400         18\n",
       "1             University of Alberta        1995        14000         16\n",
       "2             University of Alberta        1995         5755        147\n",
       "3                 McGill University        1995        10380        146\n",
       "4  GE Glegg Water Technologies Inc.        1995         3600        146"
      ]
     },
     "execution_count": 25,
     "metadata": {},
     "output_type": "execute_result"
    }
   ],
   "source": [
    "df.head()"
   ]
  },
  {
   "cell_type": "markdown",
   "metadata": {},
   "source": [
    "### Data for the Selected Institution and Fixed Committee\n",
    "re-run this cell and all cells below this if you select a new institution"
   ]
  },
  {
   "cell_type": "code",
   "execution_count": 30,
   "metadata": {},
   "outputs": [
    {
     "data": {
      "text/html": [
       "<div>\n",
       "<table border=\"1\" class=\"dataframe\">\n",
       "  <thead>\n",
       "    <tr style=\"text-align: right;\">\n",
       "      <th></th>\n",
       "      <th>Institution</th>\n",
       "      <th>FiscalYear</th>\n",
       "      <th>AwardAmount</th>\n",
       "      <th>Committee</th>\n",
       "    </tr>\n",
       "  </thead>\n",
       "  <tbody>\n",
       "    <tr>\n",
       "      <th>5722</th>\n",
       "      <td>University of British Columbia</td>\n",
       "      <td>2009</td>\n",
       "      <td>48530</td>\n",
       "      <td>1508</td>\n",
       "    </tr>\n",
       "    <tr>\n",
       "      <th>140</th>\n",
       "      <td>University of British Columbia</td>\n",
       "      <td>2010</td>\n",
       "      <td>40000</td>\n",
       "      <td>1508</td>\n",
       "    </tr>\n",
       "    <tr>\n",
       "      <th>569</th>\n",
       "      <td>University of British Columbia</td>\n",
       "      <td>2010</td>\n",
       "      <td>24000</td>\n",
       "      <td>1508</td>\n",
       "    </tr>\n",
       "    <tr>\n",
       "      <th>7093</th>\n",
       "      <td>University of British Columbia</td>\n",
       "      <td>2010</td>\n",
       "      <td>24000</td>\n",
       "      <td>1508</td>\n",
       "    </tr>\n",
       "    <tr>\n",
       "      <th>7203</th>\n",
       "      <td>University of British Columbia</td>\n",
       "      <td>2010</td>\n",
       "      <td>20000</td>\n",
       "      <td>1508</td>\n",
       "    </tr>\n",
       "  </tbody>\n",
       "</table>\n",
       "</div>"
      ],
      "text/plain": [
       "                         Institution  FiscalYear  AwardAmount  Committee\n",
       "5722  University of British Columbia        2009        48530       1508\n",
       "140   University of British Columbia        2010        40000       1508\n",
       "569   University of British Columbia        2010        24000       1508\n",
       "7093  University of British Columbia        2010        24000       1508\n",
       "7203  University of British Columbia        2010        20000       1508"
      ]
     },
     "execution_count": 30,
     "metadata": {},
     "output_type": "execute_result"
    }
   ],
   "source": [
    "## Get the data for committee 1508\n",
    "committee = 1508\n",
    "tempData = df.loc[(df['Committee'] == committee)]\n",
    "\n",
    "## Get the data for the chosen institution\n",
    "mathFundingData = mathFundingData.loc[(mathFundingData['Institution'] == institution)]\n",
    "\n",
    "# A sample of the data imported\n",
    "mathFundingData.head()"
   ]
  },
  {
   "cell_type": "markdown",
   "metadata": {},
   "source": [
    "## Total Awards Granted Per Year \n",
    "Note: Committee 1508 for Mathematics and Statistics was created in 2009 so there is no pre-2009 data on it."
   ]
  },
  {
   "cell_type": "code",
   "execution_count": 31,
   "metadata": {},
   "outputs": [
    {
     "data": {
      "text/html": [
       "<div>\n",
       "<table border=\"1\" class=\"dataframe\">\n",
       "  <thead>\n",
       "    <tr style=\"text-align: right;\">\n",
       "      <th></th>\n",
       "      <th>FiscalYear</th>\n",
       "      <th>TotalAward</th>\n",
       "      <th>AwardCount</th>\n",
       "    </tr>\n",
       "  </thead>\n",
       "  <tbody>\n",
       "    <tr>\n",
       "      <th>5722</th>\n",
       "      <td>2009</td>\n",
       "      <td>48530</td>\n",
       "      <td>1</td>\n",
       "    </tr>\n",
       "    <tr>\n",
       "      <th>22643</th>\n",
       "      <td>2010</td>\n",
       "      <td>311089</td>\n",
       "      <td>13</td>\n",
       "    </tr>\n",
       "    <tr>\n",
       "      <th>23222</th>\n",
       "      <td>2011</td>\n",
       "      <td>627615</td>\n",
       "      <td>30</td>\n",
       "    </tr>\n",
       "    <tr>\n",
       "      <th>23539</th>\n",
       "      <td>2012</td>\n",
       "      <td>1080991</td>\n",
       "      <td>45</td>\n",
       "    </tr>\n",
       "    <tr>\n",
       "      <th>13200</th>\n",
       "      <td>2013</td>\n",
       "      <td>1401000</td>\n",
       "      <td>58</td>\n",
       "    </tr>\n",
       "    <tr>\n",
       "      <th>24171</th>\n",
       "      <td>2014</td>\n",
       "      <td>1597852</td>\n",
       "      <td>68</td>\n",
       "    </tr>\n",
       "    <tr>\n",
       "      <th>24428</th>\n",
       "      <td>2015</td>\n",
       "      <td>1725520</td>\n",
       "      <td>73</td>\n",
       "    </tr>\n",
       "    <tr>\n",
       "      <th>25034</th>\n",
       "      <td>2016</td>\n",
       "      <td>1766000</td>\n",
       "      <td>67</td>\n",
       "    </tr>\n",
       "  </tbody>\n",
       "</table>\n",
       "</div>"
      ],
      "text/plain": [
       "       FiscalYear  TotalAward  AwardCount\n",
       "5722         2009       48530           1\n",
       "22643        2010      311089          13\n",
       "23222        2011      627615          30\n",
       "23539        2012     1080991          45\n",
       "13200        2013     1401000          58\n",
       "24171        2014     1597852          68\n",
       "24428        2015     1725520          73\n",
       "25034        2016     1766000          67"
      ]
     },
     "execution_count": 31,
     "metadata": {},
     "output_type": "execute_result"
    }
   ],
   "source": [
    "# The sum of all awards for each individual year\n",
    "awardSums = mathFundingData.groupby(['FiscalYear'])['AwardAmount'].transform('sum')\n",
    "\n",
    "# Make a new column called 'TotalAward' to show the awardSums\n",
    "awardTotalsByYear = mathFundingData.assign(TotalAward = awardSums)\n",
    "\n",
    "# Count the number of awards given in each year\n",
    "awardsGiven = awardTotalsByYear.groupby('FiscalYear').cumcount() + 1\n",
    "\n",
    "# Make a new column called 'AwardCount' to show the awardsGiven  \n",
    "awardTotalsByYear = awardTotalsByYear.assign(AwardCount=awardsGiven)\n",
    "\n",
    "# Drop all but the last of duplicate years, now that we have the award amount info from them. \n",
    "# We keep the last one because that is where the final value of cumCount for the number of awards given is.\n",
    "deduplicatedData = awardTotalsByYear.drop_duplicates(subset = 'FiscalYear', keep = 'last')\n",
    "\n",
    "deduplicatedData[['FiscalYear','TotalAward', 'AwardCount']] "
   ]
  },
  {
   "cell_type": "markdown",
   "metadata": {},
   "source": [
    "## Plots of the Data"
   ]
  },
  {
   "cell_type": "code",
   "execution_count": 32,
   "metadata": {},
   "outputs": [
    {
     "name": "stdout",
     "output_type": "stream",
     "text": [
      "Requirement already satisfied: plotly in /home/iheisz/.local/lib/python3.6/site-packages\n",
      "Requirement already satisfied: requests in /opt/conda/lib/python3.6/site-packages (from plotly)\n",
      "Requirement already satisfied: six in /opt/conda/lib/python3.6/site-packages (from plotly)\n",
      "Requirement already satisfied: nbformat>=4.2 in /opt/conda/lib/python3.6/site-packages (from plotly)\n",
      "Requirement already satisfied: pytz in /opt/conda/lib/python3.6/site-packages (from plotly)\n",
      "Requirement already satisfied: decorator>=4.0.6 in /opt/conda/lib/python3.6/site-packages (from plotly)\n",
      "Requirement already satisfied: chardet<3.1.0,>=3.0.2 in /opt/conda/lib/python3.6/site-packages (from requests->plotly)\n",
      "Requirement already satisfied: idna<2.7,>=2.5 in /opt/conda/lib/python3.6/site-packages (from requests->plotly)\n",
      "Requirement already satisfied: urllib3<1.23,>=1.21.1 in /opt/conda/lib/python3.6/site-packages (from requests->plotly)\n",
      "Requirement already satisfied: certifi>=2017.4.17 in /opt/conda/lib/python3.6/site-packages (from requests->plotly)\n"
     ]
    }
   ],
   "source": [
    "## Imports necessary for plotting\n",
    "import matplotlib.pyplot as plt\n",
    "import matplotlib.ticker as mtick\n",
    "\n",
    "#Plotly for interactive plotting\n",
    "!pip3 install plotly --user; \n",
    "import plotly.plotly as py\n",
    "import plotly.graph_objs as go"
   ]
  },
  {
   "cell_type": "markdown",
   "metadata": {},
   "source": [
    "### Plot of the Award Distribution for All Years"
   ]
  },
  {
   "cell_type": "code",
   "execution_count": 38,
   "metadata": {},
   "outputs": [
    {
     "data": {
      "image/png": "[encoded data removed]",
      "text/plain": [
       "<matplotlib.figure.Figure at 0x7fb38dc3fb38>"
      ]
     },
     "metadata": {},
     "output_type": "display_data"
    }
   ],
   "source": [
    "## Plot Settings, modifiable variables\n",
    "data = mathFundingData\n",
    "\n",
    "xAxis = 'FiscalYear'\n",
    "yAxis = 'AwardAmount'\n",
    "\n",
    "# This will probably need adjustment if you change years or committees\n",
    "yAxisRange = [0,60]\n",
    "yScalingFactor = 10**3\n",
    "yScalingFactorString = ' In Thousands'\n",
    "\n",
    "plotPointSizes = 3 \n",
    "\n",
    "title = 'Graph of Awards Given by the Selected Committee'\n",
    "\n",
    "## Make the Plot\n",
    "axes = plt.gca()\n",
    "x = data[xAxis]\n",
    "plt.xlabel(xAxis, fontsize=16)\n",
    "\n",
    "y = data[yAxis]\n",
    "plt.ylabel(yAxis+yScalingFactorString, fontsize=14)\n",
    "axes.set_ylim(yAxisRange)\n",
    "y = y/yScalingFactor\n",
    "\n",
    "plt.title(title)\n",
    "\n",
    "plot = plt.scatter(x,y,s=plotPointSizes)\n",
    "\n",
    "plt.show()"
   ]
  },
  {
   "cell_type": "markdown",
   "metadata": {},
   "source": [
    "### Plot of the Award Distribution for a Selected Year"
   ]
  },
  {
   "cell_type": "code",
   "execution_count": 39,
   "metadata": {},
   "outputs": [
    {
     "data": {
      "image/png": "[encoded data removed]",
      "text/plain": [
       "<matplotlib.figure.Figure at 0x7fb38dbdc160>"
      ]
     },
     "metadata": {},
     "output_type": "display_data"
    }
   ],
   "source": [
    "## Plot Settings, modifiable variables\n",
    "year = 2016\n",
    "data = mathFundingData.loc[(mathFundingData['FiscalYear'] == year)]\n",
    "\n",
    "yAxis = 'FiscalYear'\n",
    "xAxis = 'AwardAmount'\n",
    "\n",
    "xScalingFactor = 10**3\n",
    "xScalingFactorString = ' In Thousands'\n",
    "\n",
    "# This will probably need adjustment if you change years or committees\n",
    "yAxisRange = [0,10000]\n",
    "\n",
    "plotPointSizes = 3 \n",
    "\n",
    "title = 'Graph of Awards Given by the Selected Committee During the Specified Year'\n",
    "\n",
    "## Make the Plot\n",
    "axes = plt.gca()\n",
    "x = data[xAxis]\n",
    "x = x/xScalingFactor\n",
    "plt.xlabel(xAxis+xScalingFactorString, fontsize=16)\n",
    "\n",
    "y = data[yAxis]\n",
    "axes.set_ylim(yAxisRange)\n",
    "axes.set_yticklabels([]) # make it so the y axis is not numbered\n",
    "\n",
    "plt.title(title)\n",
    "\n",
    "plot = plt.scatter(x,y,s=plotPointSizes)\n",
    "\n",
    "plt.show()"
   ]
  }
 ],
 "metadata": {
  "kernelspec": {
   "display_name": "Python 3",
   "language": "python",
   "name": "python3"
  },
  "language_info": {
   "codemirror_mode": {
    "name": "ipython",
    "version": 3
   },
   "file_extension": ".py",
   "mimetype": "text/x-python",
   "name": "python",
   "nbconvert_exporter": "python",
   "pygments_lexer": "ipython3",
   "version": "3.6.2"
  }
 },
 "nbformat": 4,
 "nbformat_minor": 2
}
