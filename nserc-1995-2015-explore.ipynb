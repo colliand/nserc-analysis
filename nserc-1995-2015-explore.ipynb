{
 "cells": [
  {
   "cell_type": "markdown",
   "metadata": {},
   "source": [
    "\n",
    "<img src=\"http://www.nserc-crsng.gc.ca/_gui/wmms.gif\" alt=\"Canada logo\" align=\"right\">\n",
    "\n",
    "<br>\n",
    "\n",
    "<img src=\"http://www.triumf.ca/sites/default/files/styles/gallery_large/public/images/nserc_crsng.gif?itok=H7AhTN_F\" alt=\"NSERC logo\" align=\"right\" width = 90>\n",
    "\n",
    "\n",
    "\n",
    "# Exploring NSERC Awards Data\n",
    "\n",
    "\n",
    "Canada's [Open Government Portal](http://open.canada.ca/en) includes [NSERC Awards Data](http://open.canada.ca/data/en/dataset/c1b0f627-8c29-427c-ab73-33968ad9176e) from 1991 through 2015. The [2015](http://www.nserc-crsng.gc.ca/NSERC-CRSNG/FundingDecisions-DecisionsFinancement/ResearchGrants-SubventionsDeRecherche/ResultsGSC-ResultatsCSS_eng.asp?Year=2015) and [2016](http://www.nserc-crsng.gc.ca/NSERC-CRSNG/FundingDecisions-DecisionsFinancement/ResearchGrants-SubventionsDeRecherche/ResultsGSC-ResultatsCSS_eng.asp?Year=2016) data are also available separately as web archives. \n",
    "\n",
    "The awards data (in .csv format) were copied to an [Amazon Web Services S3 bucket](http://docs.aws.amazon.com/AmazonS3/latest/dev/UsingBucket.html). This open Jupyter notebook starts an exploration of the NSERC investment portfolio during the 1995 -- 2015 epoch. The notebook assumes that you have your AWS keys setup in `~/.aws/credentials`. See the [boto3 docs](http://boto3.readthedocs.io/en/latest/guide/configuration.html) for more information on configuration of credentials. (If you'd like access to the data hosted on S3, please contact [James Colliander](http://colliand.com).)\n",
    "\n",
    "> **Acknowledgement:** I thank [Ian Allison](https://github.com/ianabc) of the [Pacific Institute for the Mathematical Sciences](http://www.pims.math.ca/) for building the [JupyterHub service](https://pims.jupyter.ca) and for help with this notebook. -- J. Colliander"
   ]
  },
  {
   "cell_type": "code",
   "execution_count": null,
   "metadata": {
    "collapsed": true
   },
   "outputs": [],
   "source": [
    "## Import some Python resources for data and interactive plots.\n",
    "import pandas as pd\n",
    "import matplotlib.pyplot as plt\n",
    "from ipywidgets import widgets\n",
    "import numpy as np\n",
    "import seaborn as sns\n",
    "\n",
    "import sys\n",
    "\n",
    "from IPython.display import display, clear_output\n",
    "from ipywidgets import widgets\n",
    "\n",
    "sns.set_style(\"darkgrid\")\n",
    "\n",
    "%matplotlib inline\n",
    "plt.rcParams['figure.figsize'] = 10, 6"
   ]
  },
  {
   "cell_type": "code",
   "execution_count": null,
   "metadata": {
    "collapsed": true
   },
   "outputs": [],
   "source": [
    "## Import the tools for accessing data hosted on AWS S3.\n",
    "import boto3\n",
    "import botocore\n",
    "\n",
    "## name the bucket containing the data\n",
    "nsercBucket='pims-open-data'\n",
    "\n",
    "s3 = boto3.client('s3')\n",
    "exists = True\n",
    "\n",
    "try:\n",
    "    s3.head_bucket(Bucket=nsercBucket)\n",
    "except botocore.exceptions.ClientError as e:\n",
    "    # If a client error is thrown, then check that it was a 404 error.\n",
    "    # If it was a 404 error, then the bucket does not exist.\n",
    "    error_code = int(e.response['Error']['Code'])\n",
    "    if error_code == 404:\n",
    "        exists = False"
   ]
  },
  {
   "cell_type": "code",
   "execution_count": null,
   "metadata": {
    "collapsed": true
   },
   "outputs": [],
   "source": [
    "## Bring in a selection of the NSERC awards data starting with 1995 and ending with 2014.\n",
    "## Throw away as much as you can to keep the DataFrame small enough to manipulate using a laptop.\n",
    "\n",
    "startYear=1995\n",
    "endYear=2016  ## This means we include the 2015 collection but not 2016.\n",
    "\n",
    "nserc = []\n",
    "institutionAwards = []\n",
    "\n",
    "s3 = boto3.resource('s3')\n",
    "bucket = s3.Bucket(nsercBucket)\n",
    "\n",
    "for year in range(startYear, endYear):\n",
    "    obj = boto3.client('s3').get_object(\n",
    "        Bucket=nsercBucket, Key='NSERC_GRT_FYR'+str(year)+'_AWARD.csv')\n",
    "    df = pd.read_csv(obj['Body'], \n",
    "                     encoding='latin1', \n",
    "                     usecols = [1, 2, 3, 4, 5, 7, 9, 11, 12, 13, 28],\n",
    "                    )\n",
    "    nserc.append(df)\n",
    "    df.columns = ['Name', 'Department', 'OrganizationID',\n",
    "                 'Institution', 'ProvinceEN', 'CountryEN',\n",
    "                 'FiscalYear', 'AwardAmount', 'ProgramID',\n",
    "                 'ProgramNameEN','ResearchSubjectEN']   ## Rename various columns for easier access.\n",
    "    print(year)"
   ]
  },
  {
   "cell_type": "code",
   "execution_count": null,
   "metadata": {
    "collapsed": true
   },
   "outputs": [],
   "source": [
    "## Again, throw away some superfluous data to minimize impact on memory.\n",
    "try:\n",
    "    nsercDF = pd.concat(nserc)\n",
    "    del(nserc)\n",
    "except NameError:\n",
    "    print(\"Namespace already cleaned\")\n",
    "\n",
    "print(\"DataFrame: {:4.2f} Mb\".format(sys.getsizeof(nsercDF) / (1024. * 1024)))  ##Quantify data stored in memory."
   ]
  },
  {
   "cell_type": "code",
   "execution_count": null,
   "metadata": {
    "collapsed": true
   },
   "outputs": [],
   "source": [
    "## These are the columns in our data table.\n",
    "nsercDF.columns"
   ]
  },
  {
   "cell_type": "code",
   "execution_count": null,
   "metadata": {
    "collapsed": true
   },
   "outputs": [],
   "source": [
    "## This is what the data looks like.\n",
    "nsercDF"
   ]
  },
  {
   "cell_type": "markdown",
   "metadata": {},
   "source": [
    "## Total Invested by NSERC Over Time"
   ]
  },
  {
   "cell_type": "markdown",
   "metadata": {},
   "source": [
    "We accumulate the award amounts into a total sum for each year and plot these values over time. These calculations do not take inflation or other factors into account."
   ]
  },
  {
   "cell_type": "code",
   "execution_count": null,
   "metadata": {
    "collapsed": true
   },
   "outputs": [],
   "source": [
    "awardTotals = nsercDF.groupby('FiscalYear').sum()['AwardAmount']\n",
    "\n",
    "import matplotlib.ticker as mtick\n",
    "\n",
    "fig = plt.figure()\n",
    "\n",
    "ax = fig.add_subplot(111)\n",
    "\n",
    "ax.plot(awardTotals.index, awardTotals/10**6)\n",
    "ax.set_ylabel('Award Total ($/M)')\n",
    "ax.set_xlabel('Year')\n",
    "\n",
    "ax.yaxis.set_major_formatter(mtick.FormatStrFormatter('%4d'))"
   ]
  },
  {
   "cell_type": "markdown",
   "metadata": {},
   "source": [
    "## 2014 Investments by `Institution`\n",
    "\n",
    "Let's focus in on 2014. We accumulate all the awards for each institution and sort by the resulting totals. Then, we expose an ordered list of the institutions that received the biggest investments from NSERC."
   ]
  },
  {
   "cell_type": "code",
   "execution_count": null,
   "metadata": {
    "collapsed": true
   },
   "outputs": [],
   "source": [
    "byInstitution = nsercDF[nsercDF.FiscalYear == 2014].groupby('Institution')\n",
    "top10 = byInstitution.sum()['AwardAmount'].sort_values(\n",
    "    ascending=False).head(n=10)\n",
    "top10"
   ]
  },
  {
   "cell_type": "markdown",
   "metadata": {},
   "source": [
    "We set colors for these institutions to set up visualizations of the data."
   ]
  },
  {
   "cell_type": "code",
   "execution_count": null,
   "metadata": {
    "collapsed": true
   },
   "outputs": [],
   "source": [
    "institutionList = list(top10.index)\n",
    "instColor = zip(institutionList, sns.color_palette())\n",
    "institutionList"
   ]
  },
  {
   "cell_type": "code",
   "execution_count": null,
   "metadata": {
    "collapsed": true
   },
   "outputs": [],
   "source": [
    "## Make a pie chart.\n",
    "awards = nsercDF[nsercDF.FiscalYear == 2014].groupby(\n",
    "    'Institution').sum().sort_values(\n",
    "    'AwardAmount', ascending=False).head(n=10)\n",
    "awards.loc[institutionList].plot.pie('AwardAmount',\n",
    "                                       figsize=(8,8), legend=None)"
   ]
  },
  {
   "cell_type": "code",
   "execution_count": null,
   "metadata": {
    "collapsed": true
   },
   "outputs": [],
   "source": [
    "## Make a bar chart.\n",
    "a = awards.loc[institutionList]['AwardAmount']\n",
    "a.plot.bar(color=sns.color_palette()) "
   ]
  },
  {
   "cell_type": "markdown",
   "metadata": {
    "collapsed": true
   },
   "source": [
    "## 2015 Award Totals by `Province`"
   ]
  },
  {
   "cell_type": "code",
   "execution_count": null,
   "metadata": {
    "collapsed": true
   },
   "outputs": [],
   "source": [
    "byProvince = nsercDF[nsercDF.FiscalYear == 2015].groupby('ProvinceEN')\n",
    "provinceAmounts = byProvince.sum()['AwardAmount'].sort_values(\n",
    "    ascending=False)\n",
    "provinceAmounts"
   ]
  },
  {
   "cell_type": "markdown",
   "metadata": {},
   "source": [
    "## 2015 Award Totals by `ProgramName`"
   ]
  },
  {
   "cell_type": "code",
   "execution_count": null,
   "metadata": {
    "collapsed": true
   },
   "outputs": [],
   "source": [
    "byProgramName = nsercDF[nsercDF.FiscalYear == 2015].groupby('ProgramNameEN')\n",
    "programNameAmounts = byProgramName.sum()['AwardAmount'].sort_values(\n",
    "    ascending=False)\n",
    "programNameAmounts"
   ]
  },
  {
   "cell_type": "markdown",
   "metadata": {},
   "source": [
    "## Specific `Department` within an `Institution` over Time\n",
    "\n",
    "**UBC Mathematics**"
   ]
  },
  {
   "cell_type": "code",
   "execution_count": null,
   "metadata": {
    "collapsed": true
   },
   "outputs": [],
   "source": [
    "ubcMath = nsercDF.loc[(nsercDF['Department'].isin(['Mathematics'])) \n",
    "            & (nsercDF['Institution'].isin(['University of British Columbia']))].groupby('FiscalYear').sum()['AwardAmount']\n",
    "\n",
    "fig = plt.figure()\n",
    "\n",
    "ax = fig.add_subplot(111)\n",
    "\n",
    "ax.plot(ubcMath.index, ubcMath/10**6)\n",
    "ax.set_ylabel('Award Total ($/M)')\n",
    "ax.set_xlabel('Year')\n",
    "\n",
    "ax.yaxis.set_major_formatter(mtick.FormatStrFormatter('%4d'))"
   ]
  },
  {
   "cell_type": "markdown",
   "metadata": {},
   "source": [
    "## Big Winners over Time"
   ]
  },
  {
   "cell_type": "code",
   "execution_count": null,
   "metadata": {
    "collapsed": true
   },
   "outputs": [],
   "source": [
    "byName = nsercDF.loc[(nsercDF['AwardAmount'] > 1000000)].groupby('Name')\n",
    "byName.sum().sort_values(\n",
    "    'AwardAmount', ascending=False).head(n=50)"
   ]
  },
  {
   "cell_type": "markdown",
   "metadata": {},
   "source": [
    "The first female researcher on the list of \"Big NSERC Winners\" during the 1996-2014 timeframe appears in position 33.  "
   ]
  },
  {
   "cell_type": "markdown",
   "metadata": {},
   "source": [
    "## Individual Principal Investigator"
   ]
  },
  {
   "cell_type": "code",
   "execution_count": null,
   "metadata": {
    "collapsed": true
   },
   "outputs": [],
   "source": [
    "nsercDF.loc[nsercDF['Name'].isin(['Vinet, Luc'])]"
   ]
  },
  {
   "cell_type": "code",
   "execution_count": null,
   "metadata": {
    "collapsed": true
   },
   "outputs": [],
   "source": [
    "nsercDF.loc[nsercDF['Name'].isin(['Colliander, James'])]"
   ]
  },
  {
   "cell_type": "code",
   "execution_count": null,
   "metadata": {
    "collapsed": true
   },
   "outputs": [],
   "source": [
    "nsercDF.loc[nsercDF['Name'].isin(['Hinton, Geoffrey'])]['AwardAmount'].sum()\n",
    "## Total Amount Invested in CAD (not corrected for inflation)"
   ]
  },
  {
   "cell_type": "code",
   "execution_count": null,
   "metadata": {
    "collapsed": true,
    "scrolled": false
   },
   "outputs": [],
   "source": [
    "nsercDF.loc[nsercDF['Name'].isin(['Hinton, Geoffrey'])]['AwardAmount'].plot(kind='bar')"
   ]
  },
  {
   "cell_type": "markdown",
   "metadata": {},
   "source": [
    "## Exploring a Specific Program"
   ]
  },
  {
   "cell_type": "code",
   "execution_count": null,
   "metadata": {
    "collapsed": true
   },
   "outputs": [],
   "source": [
    "nsercDF.loc[nsercDF['ProgramNameEN'].isin(['Canada Excellence Research Chairs'])]['AwardAmount'].sum()"
   ]
  },
  {
   "cell_type": "code",
   "execution_count": null,
   "metadata": {
    "collapsed": true
   },
   "outputs": [],
   "source": [
    "nsercDF.loc[nsercDF['ProgramNameEN'].isin(['Canada Excellence Research Chairs'])]['AwardAmount'].plot(kind='bar')"
   ]
  },
  {
   "cell_type": "markdown",
   "metadata": {},
   "source": [
    "## Exploring CTRMS Envelope"
   ]
  },
  {
   "cell_type": "code",
   "execution_count": null,
   "metadata": {
    "collapsed": true
   },
   "outputs": [],
   "source": [
    "nsercDF.loc[nsercDF['ProgramID'].isin(['CTRMS'])]['AwardAmount'].sum()"
   ]
  },
  {
   "cell_type": "code",
   "execution_count": null,
   "metadata": {
    "collapsed": true
   },
   "outputs": [],
   "source": [
    "nsercDF.loc[nsercDF['ProgramID'].isin(['CTRMS'])]"
   ]
  },
  {
   "cell_type": "code",
   "execution_count": null,
   "metadata": {
    "collapsed": true
   },
   "outputs": [],
   "source": [
    "nsercDF.loc[(nsercDF['Department'].isin(['Statistics'])) & (nsercDF['FiscalYear'].isin([2013]) ) \n",
    "            & (nsercDF['ProgramID'].isin(['RGPIN']))]['AwardAmount'].sum()"
   ]
  },
  {
   "cell_type": "code",
   "execution_count": null,
   "metadata": {
    "collapsed": true
   },
   "outputs": [],
   "source": [
    "mathstatsDF = nsercDF.loc[(nsercDF['Department'].isin(['Mathematics']) \n",
    "             | nsercDF['Department'].isin(['Statistics']) \n",
    "             | nsercDF['Department'].isin(['Mathematics (St. George Campus)'])) \n",
    "            & (nsercDF['FiscalYear'].isin([2015]) ) \n",
    "            & (nsercDF['ProgramID'].isin(['RGPIN']))]"
   ]
  },
  {
   "cell_type": "code",
   "execution_count": null,
   "metadata": {
    "collapsed": true
   },
   "outputs": [],
   "source": [
    "mathstatsDF['AwardAmount'].sum()"
   ]
  },
  {
   "cell_type": "code",
   "execution_count": null,
   "metadata": {
    "collapsed": true
   },
   "outputs": [],
   "source": [
    "mathstatsDF['AwardAmount'].plot(kind='hist')"
   ]
  },
  {
   "cell_type": "code",
   "execution_count": null,
   "metadata": {
    "collapsed": true
   },
   "outputs": [],
   "source": [
    "nsercDF.loc[(nsercDF['Department'].isin(['Mathematics']) \n",
    "             | nsercDF['Department'].isin(['Statistics']) \n",
    "             | nsercDF['Department'].isin(['Mathematics (St. George Campus)'])) \n",
    "            & (nsercDF['FiscalYear'].isin([2012]) ) \n",
    "            & (nsercDF['ProgramID'].isin(['RGPIN']))]"
   ]
  },
  {
   "cell_type": "code",
   "execution_count": null,
   "metadata": {
    "collapsed": true
   },
   "outputs": [],
   "source": [
    "nsercDF.loc[(nsercDF['Department'].isin(['Mathematics'])\n",
    "            | nsercDF['Department'].isin(['Statistics'])\n",
    "            | nsercDF['Department'].isin(['Mathematics (St. George Campus)'])) \n",
    "            & (nsercDF['FiscalYear'].isin([2012]) )\n",
    "            & (nsercDF['ProgramID'].isin(['RGPIN']))\n",
    "           ].describe()"
   ]
  },
  {
   "cell_type": "code",
   "execution_count": null,
   "metadata": {
    "collapsed": true
   },
   "outputs": [],
   "source": [
    "msDG = nsercDF.loc[(nsercDF['Department'].isin(['Mathematics'])\n",
    "            | nsercDF['Department'].isin(['Statistics'])\n",
    "            | nsercDF['Department'].isin(['Mathematics (St. George Campus)'])\n",
    "            | nsercDF['Department'].isin(['Mathematics (Toronto)'] )     ) \n",
    "           ]"
   ]
  },
  {
   "cell_type": "code",
   "execution_count": null,
   "metadata": {
    "collapsed": true
   },
   "outputs": [],
   "source": [
    "timeMath = msDG.groupby('FiscalYear').sum()['AwardAmount']\n",
    "\n",
    "fig = plt.figure()\n",
    "\n",
    "ax = fig.add_subplot(111)\n",
    "\n",
    "ax.plot(timeMath.index, timeMath/10**6)\n",
    "ax.set_ylabel('Award Total ($/M)')\n",
    "ax.set_xlabel('Year')\n",
    "\n",
    "ax.yaxis.set_major_formatter(mtick.FormatStrFormatter('%4d'))"
   ]
  },
  {
   "cell_type": "code",
   "execution_count": null,
   "metadata": {
    "collapsed": true
   },
   "outputs": [],
   "source": [
    "timeMath"
   ]
  },
  {
   "cell_type": "code",
   "execution_count": null,
   "metadata": {
    "collapsed": true
   },
   "outputs": [],
   "source": [
    "msDG.describe()"
   ]
  },
  {
   "cell_type": "code",
   "execution_count": null,
   "metadata": {
    "collapsed": true
   },
   "outputs": [],
   "source": []
  }
 ],
 "metadata": {
  "kernelspec": {
   "display_name": "Python 3",
   "language": "python",
   "name": "python3"
  },
  "language_info": {
   "codemirror_mode": {
    "name": "ipython",
    "version": 3
   },
   "file_extension": ".py",
   "mimetype": "text/x-python",
   "name": "python",
   "nbconvert_exporter": "python",
   "pygments_lexer": "ipython3",
   "version": "3.6.2"
  }
 },
 "nbformat": 4,
 "nbformat_minor": 1
}
