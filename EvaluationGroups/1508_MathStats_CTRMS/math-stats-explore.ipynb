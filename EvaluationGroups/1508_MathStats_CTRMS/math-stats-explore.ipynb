{
 "cells": [
  {
   "cell_type": "code",
   "execution_count": 1,
   "metadata": {},
   "outputs": [
    {
     "data": {
      "text/html": [
       "\n",
       "​\n",
       "\n",
       "<script>\n",
       "\n",
       "  function code_toggle() {\n",
       "\n",
       "    if (code_shown){\n",
       "\n",
       "      $('div.input').hide('500');\n",
       "\n",
       "      $('#toggleButton').val('Show Code')\n",
       "\n",
       "    } else {\n",
       "\n",
       "      $('div.input').show('500');\n",
       "\n",
       "      $('#toggleButton').val('Hide Code')\n",
       "\n",
       "    }\n",
       "\n",
       "    code_shown = !code_shown\n",
       "\n",
       "  }\n",
       "\n",
       "  \n",
       "\n",
       "  $( document ).ready(function(){\n",
       "\n",
       "    code_shown=false;\n",
       "\n",
       "    $('div.input').hide()\n",
       "\n",
       "  });\n",
       "\n",
       "</script>\n",
       "\n",
       "<form action=\"javascript:code_toggle()\"><input type=\"submit\" id=\"toggleButton\" value=\"Show Code\"></form>\n"
      ],
      "text/plain": [
       "<IPython.core.display.HTML object>"
      ]
     },
     "metadata": {},
     "output_type": "display_data"
    }
   ],
   "source": [
    "%%html\n",
    "\n",
    "​\n",
    "\n",
    "<script>\n",
    "\n",
    "  function code_toggle() {\n",
    "\n",
    "    if (code_shown){\n",
    "\n",
    "      $('div.input').hide('500');\n",
    "\n",
    "      $('#toggleButton').val('Show Code')\n",
    "\n",
    "    } else {\n",
    "\n",
    "      $('div.input').show('500');\n",
    "\n",
    "      $('#toggleButton').val('Hide Code')\n",
    "\n",
    "    }\n",
    "\n",
    "    code_shown = !code_shown\n",
    "\n",
    "  }\n",
    "\n",
    "  \n",
    "\n",
    "  $( document ).ready(function(){\n",
    "\n",
    "    code_shown=false;\n",
    "\n",
    "    $('div.input').hide()\n",
    "\n",
    "  });\n",
    "\n",
    "</script>\n",
    "\n",
    "<form action=\"javascript:code_toggle()\"><input type=\"submit\" id=\"toggleButton\" value=\"Show Code\"></form>\n",
    "\n"
   ]
  },
  {
   "cell_type": "markdown",
   "metadata": {},
   "source": [
    "<img src=\"http://www.nserc-crsng.gc.ca/_gui/wmms.gif\" alt=\"Canada logo\" align=\"right\">\n",
    "\n",
    "<br>\n",
    "\n",
    "<img src=\"http://www.triumf.ca/sites/default/files/styles/gallery_large/public/images/nserc_crsng.gif?itok=H7AhTN_F\" alt=\"NSERC logo\" align=\"right\" width = 90>\n",
    "\n",
    "\n",
    "\n",
    "# Explore historical funding over the NSERC [Evaluation Groups](http://www.nserc-crsng.gc.ca/NSERC-CRSNG/committees-comites/programs-programmes_eng.asp).\n",
    "\n",
    "\n",
    "Canada's [Open Government Portal](http://open.canada.ca/en) includes [NSERC Awards Data](http://open.canada.ca/data/en/dataset/c1b0f627-8c29-427c-ab73-33968ad9176e) from 1995 through 2016.\n",
    "\n",
    "The awards data (in .csv format) were copied to an [Amazon Web Services S3 bucket](http://docs.aws.amazon.com/AmazonS3/latest/dev/UsingBucket.html).\n",
    "\n",
    "> **Acknowledgement:** This notebook was constructed using JupyterHub service from [syzygy.ca](http://syzygy.ca) with assistance from [Ian Allison](https://github.com/ianabc) and India Heisz. -- [James Colliander](http://colliand.com)\n",
    "\n",
    "![](https://wwejubwfy.s3.amazonaws.com/NSERC_-_Selection_Committees_and_Evaluation_Groups_2018-04-12_14-37-32.png)"
   ]
  },
  {
   "cell_type": "code",
   "execution_count": 2,
   "metadata": {},
   "outputs": [],
   "source": [
    "## Load some tools\n",
    "import matplotlib.ticker as mtick\n",
    "# import plotly.graph_objs as go\n",
    "# import plotly.offline as py\n",
    "# from plotly.offline import init_notebook_mode, iplot\n",
    "#  import plotly.tools as tls\n",
    "import matplotlib.pylab as plt\n",
    "from matplotlib.backends.backend_agg import FigureCanvasAgg as FigureCanvas"
   ]
  },
  {
   "cell_type": "code",
   "execution_count": 3,
   "metadata": {},
   "outputs": [
    {
     "name": "stdout",
     "output_type": "stream",
     "text": [
      "1995\n",
      "1996\n",
      "1997\n",
      "1998\n",
      "1999\n",
      "2000\n",
      "2001\n",
      "2002\n",
      "2003\n",
      "2004\n",
      "2005\n",
      "2006\n",
      "2007\n",
      "2008\n",
      "2009\n",
      "2010\n",
      "2011\n",
      "2012\n",
      "2013\n",
      "2014\n",
      "2015\n",
      "2016\n"
     ]
    }
   ],
   "source": [
    "## Thanks Ian Allison.\n",
    "## Install some python libraries\n",
    "import numpy as np\n",
    "import pandas as pd\n",
    "import sys\n",
    "\n",
    "## Build a data frame with NSERC Awards Data by iteratively reading CSV files hosted on AWS S3.\n",
    "## It would improve reproducibility if we imported from a definitive NSERC Awards Data.\n",
    "df = pd.DataFrame()\n",
    "\n",
    "startYear = 1995\n",
    "endYear   = 2017  # The last year is not included, so 2017 means we include the 2016 collection but not 2017.\n",
    "\n",
    "## some columns dropped here for convenience\n",
    "for year in range(startYear, endYear):\n",
    "    file = 'https://s3.ca-central-1.amazonaws.com/open-data-ro/NSERC/NSERC_GRT_FYR' + str(year) + '_AWARD.csv.gz'\n",
    "    df = df.append(pd.read_csv(file, \n",
    "                               compression='gzip', \n",
    "                               usecols = [1, 2, 3, 4, 5, 7, 9, 11, 12, 13, 17, 28], \n",
    "                               encoding='latin-1'\n",
    "                              )\n",
    "                  )  \n",
    "    print(year)\n",
    " \n",
    "\n",
    "## Rename columns for better readability.\n",
    "df.columns = ['Name', 'Department', 'OrganizationID',\n",
    "                 'Institution', 'ProvinceEN', 'CountryEN',\n",
    "                 'FiscalYear', 'AwardAmount', 'ProgramID',\n",
    "                 'ProgramNameEN', 'Committee', 'ResearchSubjectEN']\n",
    "\n",
    "## Strip out any leading or trailing whitespace in the ProgramID column\n",
    "df['ProgramID'] = df['ProgramID'].str.strip();"
   ]
  },
  {
   "cell_type": "code",
   "execution_count": 5,
   "metadata": {},
   "outputs": [],
   "source": [
    "ctrms = df.loc[df['ProgramNameEN'] == \"CTRMS\"]"
   ]
  },
  {
   "cell_type": "code",
   "execution_count": 6,
   "metadata": {},
   "outputs": [
    {
     "data": {
      "text/html": [
       "<div>\n",
       "<table border=\"1\" class=\"dataframe\">\n",
       "  <thead>\n",
       "    <tr style=\"text-align: right;\">\n",
       "      <th></th>\n",
       "      <th>Name</th>\n",
       "      <th>Department</th>\n",
       "      <th>OrganizationID</th>\n",
       "      <th>Institution</th>\n",
       "      <th>ProvinceEN</th>\n",
       "      <th>CountryEN</th>\n",
       "      <th>FiscalYear</th>\n",
       "      <th>AwardAmount</th>\n",
       "      <th>ProgramID</th>\n",
       "      <th>ProgramNameEN</th>\n",
       "      <th>Committee</th>\n",
       "      <th>ResearchSubjectEN</th>\n",
       "    </tr>\n",
       "  </thead>\n",
       "  <tbody>\n",
       "  </tbody>\n",
       "</table>\n",
       "</div>"
      ],
      "text/plain": [
       "Empty DataFrame\n",
       "Columns: [Name, Department, OrganizationID, Institution, ProvinceEN, CountryEN, FiscalYear, AwardAmount, ProgramID, ProgramNameEN, Committee, ResearchSubjectEN]\n",
       "Index: []"
      ]
     },
     "execution_count": 6,
     "metadata": {},
     "output_type": "execute_result"
    }
   ],
   "source": [
    "ctrms"
   ]
  },
  {
   "cell_type": "code",
   "execution_count": 13,
   "metadata": {},
   "outputs": [],
   "source": [
    "ctrms = df.loc[df['ProgramID']=='CTRMS']"
   ]
  },
  {
   "cell_type": "code",
   "execution_count": 14,
   "metadata": {},
   "outputs": [
    {
     "data": {
      "text/html": [
       "<div>\n",
       "<table border=\"1\" class=\"dataframe\">\n",
       "  <thead>\n",
       "    <tr style=\"text-align: right;\">\n",
       "      <th></th>\n",
       "      <th>Name</th>\n",
       "      <th>Department</th>\n",
       "      <th>OrganizationID</th>\n",
       "      <th>Institution</th>\n",
       "      <th>ProvinceEN</th>\n",
       "      <th>CountryEN</th>\n",
       "      <th>FiscalYear</th>\n",
       "      <th>AwardAmount</th>\n",
       "      <th>ProgramID</th>\n",
       "      <th>ProgramNameEN</th>\n",
       "      <th>Committee</th>\n",
       "      <th>ResearchSubjectEN</th>\n",
       "    </tr>\n",
       "  </thead>\n",
       "  <tbody>\n",
       "    <tr>\n",
       "      <th>1201</th>\n",
       "      <td>Barlow, Martin</td>\n",
       "      <td>Mathematics</td>\n",
       "      <td>2</td>\n",
       "      <td>University of British Columbia</td>\n",
       "      <td>British Columbia</td>\n",
       "      <td>CANADA</td>\n",
       "      <td>2014</td>\n",
       "      <td>885500</td>\n",
       "      <td>CTRMS</td>\n",
       "      <td>Thematic Resources Support in Mathematics and ...</td>\n",
       "      <td>1579</td>\n",
       "      <td>Pure mathematics</td>\n",
       "    </tr>\n",
       "    <tr>\n",
       "      <th>4585</th>\n",
       "      <td>Craig, Walter</td>\n",
       "      <td>Mathematics (St. George Campus)</td>\n",
       "      <td>31</td>\n",
       "      <td>University of Toronto</td>\n",
       "      <td>Ontario</td>\n",
       "      <td>CANADA</td>\n",
       "      <td>2014</td>\n",
       "      <td>910500</td>\n",
       "      <td>CTRMS</td>\n",
       "      <td>Thematic Resources Support in Mathematics and ...</td>\n",
       "      <td>1579</td>\n",
       "      <td>Pure mathematics</td>\n",
       "    </tr>\n",
       "    <tr>\n",
       "      <th>22299</th>\n",
       "      <td>Vinet, Luc</td>\n",
       "      <td>Physique</td>\n",
       "      <td>63</td>\n",
       "      <td>Université de Montréal</td>\n",
       "      <td>Québec</td>\n",
       "      <td>CANADA</td>\n",
       "      <td>2014</td>\n",
       "      <td>860500</td>\n",
       "      <td>CTRMS</td>\n",
       "      <td>Thematic Resources Support in Mathematics and ...</td>\n",
       "      <td>1579</td>\n",
       "      <td>Pure mathematics</td>\n",
       "    </tr>\n",
       "    <tr>\n",
       "      <th>1234</th>\n",
       "      <td>Barlow, Martin</td>\n",
       "      <td>Mathematics</td>\n",
       "      <td>2</td>\n",
       "      <td>University of British Columbia</td>\n",
       "      <td>British Columbia</td>\n",
       "      <td>CANADA</td>\n",
       "      <td>2015</td>\n",
       "      <td>1160500</td>\n",
       "      <td>CTRMS</td>\n",
       "      <td>Thematic Resources Support in Mathematics and ...</td>\n",
       "      <td>1579</td>\n",
       "      <td>Pure mathematics</td>\n",
       "    </tr>\n",
       "    <tr>\n",
       "      <th>8823</th>\n",
       "      <td>Hambleton, Ian</td>\n",
       "      <td>Mathematics (St. George Campus)</td>\n",
       "      <td>31</td>\n",
       "      <td>University of Toronto</td>\n",
       "      <td>Ontario</td>\n",
       "      <td>CANADA</td>\n",
       "      <td>2015</td>\n",
       "      <td>1210500</td>\n",
       "      <td>CTRMS</td>\n",
       "      <td>Thematic Resources Support in Mathematics and ...</td>\n",
       "      <td>1579</td>\n",
       "      <td>Pure mathematics</td>\n",
       "    </tr>\n",
       "    <tr>\n",
       "      <th>22533</th>\n",
       "      <td>Vinet, Luc</td>\n",
       "      <td>Physique</td>\n",
       "      <td>63</td>\n",
       "      <td>Université de Montréal</td>\n",
       "      <td>Québec</td>\n",
       "      <td>CANADA</td>\n",
       "      <td>2015</td>\n",
       "      <td>1160500</td>\n",
       "      <td>CTRMS</td>\n",
       "      <td>Thematic Resources Support in Mathematics and ...</td>\n",
       "      <td>1579</td>\n",
       "      <td>Pure mathematics</td>\n",
       "    </tr>\n",
       "    <tr>\n",
       "      <th>4455</th>\n",
       "      <td>Colliander, James</td>\n",
       "      <td>Mathematics</td>\n",
       "      <td>2</td>\n",
       "      <td>University of British Columbia</td>\n",
       "      <td>British Columbia</td>\n",
       "      <td>CANADA</td>\n",
       "      <td>2016</td>\n",
       "      <td>1160500</td>\n",
       "      <td>CTRMS</td>\n",
       "      <td>Thematic Resources Support in Mathematics and ...</td>\n",
       "      <td>1579</td>\n",
       "      <td>Pure mathematics</td>\n",
       "    </tr>\n",
       "    <tr>\n",
       "      <th>7908</th>\n",
       "      <td>Ghoussoub, Nassif</td>\n",
       "      <td>Mathematics</td>\n",
       "      <td>2</td>\n",
       "      <td>University of British Columbia</td>\n",
       "      <td>British Columbia</td>\n",
       "      <td>CANADA</td>\n",
       "      <td>2016</td>\n",
       "      <td>681000</td>\n",
       "      <td>CTRMS</td>\n",
       "      <td>Thematic Resources Support in Mathematics and ...</td>\n",
       "      <td>1579</td>\n",
       "      <td>Pure mathematics</td>\n",
       "    </tr>\n",
       "    <tr>\n",
       "      <th>8975</th>\n",
       "      <td>Hambleton, Ian</td>\n",
       "      <td>Mathematics (St. George Campus)</td>\n",
       "      <td>31</td>\n",
       "      <td>University of Toronto</td>\n",
       "      <td>Ontario</td>\n",
       "      <td>CANADA</td>\n",
       "      <td>2016</td>\n",
       "      <td>1210500</td>\n",
       "      <td>CTRMS</td>\n",
       "      <td>Thematic Resources Support in Mathematics and ...</td>\n",
       "      <td>1579</td>\n",
       "      <td>Pure mathematics</td>\n",
       "    </tr>\n",
       "    <tr>\n",
       "      <th>23081</th>\n",
       "      <td>Vinet, Luc</td>\n",
       "      <td>Physique</td>\n",
       "      <td>63</td>\n",
       "      <td>Université de Montréal</td>\n",
       "      <td>Québec</td>\n",
       "      <td>CANADA</td>\n",
       "      <td>2016</td>\n",
       "      <td>1160500</td>\n",
       "      <td>CTRMS</td>\n",
       "      <td>Thematic Resources Support in Mathematics and ...</td>\n",
       "      <td>1579</td>\n",
       "      <td>Pure mathematics</td>\n",
       "    </tr>\n",
       "  </tbody>\n",
       "</table>\n",
       "</div>"
      ],
      "text/plain": [
       "                    Name                       Department  OrganizationID  \\\n",
       "1201      Barlow, Martin                      Mathematics               2   \n",
       "4585       Craig, Walter  Mathematics (St. George Campus)              31   \n",
       "22299         Vinet, Luc                         Physique              63   \n",
       "1234      Barlow, Martin                      Mathematics               2   \n",
       "8823      Hambleton, Ian  Mathematics (St. George Campus)              31   \n",
       "22533         Vinet, Luc                         Physique              63   \n",
       "4455   Colliander, James                      Mathematics               2   \n",
       "7908   Ghoussoub, Nassif                      Mathematics               2   \n",
       "8975      Hambleton, Ian  Mathematics (St. George Campus)              31   \n",
       "23081         Vinet, Luc                         Physique              63   \n",
       "\n",
       "                          Institution        ProvinceEN CountryEN  FiscalYear  \\\n",
       "1201   University of British Columbia  British Columbia    CANADA        2014   \n",
       "4585            University of Toronto           Ontario    CANADA        2014   \n",
       "22299          Université de Montréal            Québec    CANADA        2014   \n",
       "1234   University of British Columbia  British Columbia    CANADA        2015   \n",
       "8823            University of Toronto           Ontario    CANADA        2015   \n",
       "22533          Université de Montréal            Québec    CANADA        2015   \n",
       "4455   University of British Columbia  British Columbia    CANADA        2016   \n",
       "7908   University of British Columbia  British Columbia    CANADA        2016   \n",
       "8975            University of Toronto           Ontario    CANADA        2016   \n",
       "23081          Université de Montréal            Québec    CANADA        2016   \n",
       "\n",
       "       AwardAmount ProgramID  \\\n",
       "1201        885500     CTRMS   \n",
       "4585        910500     CTRMS   \n",
       "22299       860500     CTRMS   \n",
       "1234       1160500     CTRMS   \n",
       "8823       1210500     CTRMS   \n",
       "22533      1160500     CTRMS   \n",
       "4455       1160500     CTRMS   \n",
       "7908        681000     CTRMS   \n",
       "8975       1210500     CTRMS   \n",
       "23081      1160500     CTRMS   \n",
       "\n",
       "                                           ProgramNameEN  Committee  \\\n",
       "1201   Thematic Resources Support in Mathematics and ...       1579   \n",
       "4585   Thematic Resources Support in Mathematics and ...       1579   \n",
       "22299  Thematic Resources Support in Mathematics and ...       1579   \n",
       "1234   Thematic Resources Support in Mathematics and ...       1579   \n",
       "8823   Thematic Resources Support in Mathematics and ...       1579   \n",
       "22533  Thematic Resources Support in Mathematics and ...       1579   \n",
       "4455   Thematic Resources Support in Mathematics and ...       1579   \n",
       "7908   Thematic Resources Support in Mathematics and ...       1579   \n",
       "8975   Thematic Resources Support in Mathematics and ...       1579   \n",
       "23081  Thematic Resources Support in Mathematics and ...       1579   \n",
       "\n",
       "      ResearchSubjectEN  \n",
       "1201   Pure mathematics  \n",
       "4585   Pure mathematics  \n",
       "22299  Pure mathematics  \n",
       "1234   Pure mathematics  \n",
       "8823   Pure mathematics  \n",
       "22533  Pure mathematics  \n",
       "4455   Pure mathematics  \n",
       "7908   Pure mathematics  \n",
       "8975   Pure mathematics  \n",
       "23081  Pure mathematics  "
      ]
     },
     "execution_count": 14,
     "metadata": {},
     "output_type": "execute_result"
    }
   ],
   "source": [
    "ctrms"
   ]
  },
  {
   "cell_type": "code",
   "execution_count": 15,
   "metadata": {},
   "outputs": [
    {
     "data": {
      "text/plain": [
       "Text(0,0.5,'Reported Dollars')"
      ]
     },
     "execution_count": 15,
     "metadata": {},
     "output_type": "execute_result"
    },
    {
     "data": {
      "image/png": "[encoded data removed]",
      "text/plain": [
       "<Figure size 432x288 with 1 Axes>"
      ]
     },
     "metadata": {},
     "output_type": "display_data"
    }
   ],
   "source": [
    "ax = ctrms.groupby(['FiscalYear']).sum()['AwardAmount'].plot(\n",
    "    kind=\"bar\", title=\"CTRMS vs. Time\")\n",
    "ax.set_ylabel(\"Reported Dollars\")"
   ]
  },
  {
   "cell_type": "code",
   "execution_count": 16,
   "metadata": {},
   "outputs": [
    {
     "data": {
      "text/plain": [
       "FiscalYear\n",
       "2014    2656500\n",
       "2015    3531500\n",
       "2016    4212500\n",
       "Name: AwardAmount, dtype: int64"
      ]
     },
     "execution_count": 16,
     "metadata": {},
     "output_type": "execute_result"
    }
   ],
   "source": [
    "ctrms.groupby(['FiscalYear']).sum()['AwardAmount']"
   ]
  },
  {
   "cell_type": "code",
   "execution_count": 18,
   "metadata": {},
   "outputs": [],
   "source": [
    "section = df.loc[df['Committee'] == 1508]"
   ]
  },
  {
   "cell_type": "code",
   "execution_count": 19,
   "metadata": {},
   "outputs": [
    {
     "data": {
      "text/plain": [
       "Text(0,0.5,'Reported Dollars')"
      ]
     },
     "execution_count": 19,
     "metadata": {},
     "output_type": "execute_result"
    },
    {
     "data": {
      "image/png": "[encoded data removed]",
      "text/plain": [
       "<Figure size 432x288 with 1 Axes>"
      ]
     },
     "metadata": {},
     "output_type": "display_data"
    }
   ],
   "source": [
    "ax = section.groupby(['FiscalYear']).sum()['AwardAmount'].plot(\n",
    "    kind=\"bar\", title=\"1508 vs. Time\")\n",
    "ax.set_ylabel(\"Reported Dollars\")"
   ]
  },
  {
   "cell_type": "code",
   "execution_count": 20,
   "metadata": {},
   "outputs": [
    {
     "data": {
      "text/plain": [
       "FiscalYear\n",
       "2009      217360\n",
       "2010     3813412\n",
       "2011     6834781\n",
       "2012    10187618\n",
       "2013    13480881\n",
       "2014    16235610\n",
       "2015    16354650\n",
       "2016    17231868\n",
       "Name: AwardAmount, dtype: int64"
      ]
     },
     "execution_count": 20,
     "metadata": {},
     "output_type": "execute_result"
    }
   ],
   "source": [
    "section.groupby(['FiscalYear']).sum()['AwardAmount']"
   ]
  },
  {
   "cell_type": "code",
   "execution_count": 4,
   "metadata": {},
   "outputs": [],
   "source": [
    "budget = pd.read_csv('./data/math-stats.csv')"
   ]
  },
  {
   "cell_type": "code",
   "execution_count": 16,
   "metadata": {},
   "outputs": [],
   "source": [
    "budget['Total'] = budget['1508'] + budget['CTRMS']\n",
    "budget['CTRMSdividedByTotal'] = budget['CTRMS']/budget['Total'] \n",
    "budget['Discrepancy'] = 0.19  - budget['CTRMSdividedByTotal'] \n",
    "budget['FundingGap'] = budget['Discrepancy'] * budget['Total']"
   ]
  },
  {
   "cell_type": "code",
   "execution_count": 17,
   "metadata": {},
   "outputs": [
    {
     "data": {
      "text/html": [
       "<div>\n",
       "<table border=\"1\" class=\"dataframe\">\n",
       "  <thead>\n",
       "    <tr style=\"text-align: right;\">\n",
       "      <th></th>\n",
       "      <th>Year</th>\n",
       "      <th>1508</th>\n",
       "      <th>CTRMS</th>\n",
       "      <th>Total</th>\n",
       "      <th>CTRMSdividedByTotal</th>\n",
       "      <th>Discrepancy</th>\n",
       "      <th>FundingGap</th>\n",
       "    </tr>\n",
       "  </thead>\n",
       "  <tbody>\n",
       "    <tr>\n",
       "      <th>0</th>\n",
       "      <td>2014</td>\n",
       "      <td>16235610</td>\n",
       "      <td>2656500</td>\n",
       "      <td>18892110</td>\n",
       "      <td>0.140614</td>\n",
       "      <td>0.049386</td>\n",
       "      <td>933000.90</td>\n",
       "    </tr>\n",
       "    <tr>\n",
       "      <th>1</th>\n",
       "      <td>2015</td>\n",
       "      <td>16354650</td>\n",
       "      <td>3531500</td>\n",
       "      <td>19886150</td>\n",
       "      <td>0.177586</td>\n",
       "      <td>0.012414</td>\n",
       "      <td>246868.50</td>\n",
       "    </tr>\n",
       "    <tr>\n",
       "      <th>2</th>\n",
       "      <td>2016</td>\n",
       "      <td>17231868</td>\n",
       "      <td>4212500</td>\n",
       "      <td>21444368</td>\n",
       "      <td>0.196439</td>\n",
       "      <td>-0.006439</td>\n",
       "      <td>-138070.08</td>\n",
       "    </tr>\n",
       "  </tbody>\n",
       "</table>\n",
       "</div>"
      ],
      "text/plain": [
       "   Year      1508    CTRMS     Total  CTRMSdividedByTotal  Discrepancy  \\\n",
       "0  2014  16235610  2656500  18892110             0.140614     0.049386   \n",
       "1  2015  16354650  3531500  19886150             0.177586     0.012414   \n",
       "2  2016  17231868  4212500  21444368             0.196439    -0.006439   \n",
       "\n",
       "   FundingGap  \n",
       "0   933000.90  \n",
       "1   246868.50  \n",
       "2  -138070.08  "
      ]
     },
     "execution_count": 17,
     "metadata": {},
     "output_type": "execute_result"
    }
   ],
   "source": [
    "budget"
   ]
  },
  {
   "cell_type": "code",
   "execution_count": 18,
   "metadata": {},
   "outputs": [
    {
     "data": {
      "text/plain": [
       "1041799.3200000006"
      ]
     },
     "execution_count": 18,
     "metadata": {},
     "output_type": "execute_result"
    }
   ],
   "source": [
    "budget['FundingGap'].sum()"
   ]
  },
  {
   "cell_type": "code",
   "execution_count": null,
   "metadata": {},
   "outputs": [],
   "source": []
  }
 ],
 "metadata": {
  "kernelspec": {
   "display_name": "Python 3",
   "language": "python",
   "name": "python3"
  },
  "language_info": {
   "codemirror_mode": {
    "name": "ipython",
    "version": 3
   },
   "file_extension": ".py",
   "mimetype": "text/x-python",
   "name": "python",
   "nbconvert_exporter": "python",
   "pygments_lexer": "ipython3",
   "version": "3.6.4"
  }
 },
 "nbformat": 4,
 "nbformat_minor": 2
}
